{
 "cells": [
  {
   "cell_type": "markdown",
   "id": "02148621",
   "metadata": {
    "papermill": {
     "duration": 0.018538,
     "end_time": "2024-01-22T19:03:18.134470",
     "exception": false,
     "start_time": "2024-01-22T19:03:18.115932",
     "status": "completed"
    },
    "tags": []
   },
   "source": [
    "**INTRODUCTION**\n",
    "![anime_ch](https://wegotthiscovered.com/anime/the-hottest-anime-guys-of-all-time/)\n",
    "\n",
    "\n",
    "This EDA presents the release of anime over the year"
   ]
  },
  {
   "cell_type": "code",
   "execution_count": 1,
   "id": "567dd8ec",
   "metadata": {
    "_cell_guid": "b1076dfc-b9ad-4769-8c92-a6c4dae69d19",
    "_uuid": "8f2839f25d086af736a60e9eeb907d3b93b6e0e5",
    "execution": {
     "iopub.execute_input": "2024-01-22T19:03:18.170146Z",
     "iopub.status.busy": "2024-01-22T19:03:18.169494Z",
     "iopub.status.idle": "2024-01-22T19:03:20.745150Z",
     "shell.execute_reply": "2024-01-22T19:03:20.743742Z"
    },
    "papermill": {
     "duration": 2.596458,
     "end_time": "2024-01-22T19:03:20.747944",
     "exception": false,
     "start_time": "2024-01-22T19:03:18.151486",
     "status": "completed"
    },
    "tags": []
   },
   "outputs": [
    {
     "name": "stdout",
     "output_type": "stream",
     "text": [
      "/kaggle/input/anime-dataset/AnimeWorld.csv\n"
     ]
    }
   ],
   "source": [
    "import numpy as np \n",
    "import pandas as pd\n",
    "import matplotlib.pyplot as plt\n",
    "import seaborn as sns\n",
    "import plotly.express as px\n",
    "import warnings\n",
    "warnings.filterwarnings('ignore')\n",
    "import os\n",
    "for dirname, _, filenames in os.walk('/kaggle/input'):\n",
    "    for filename in filenames:\n",
    "        print(os.path.join(dirname, filename))"
   ]
  },
  {
   "cell_type": "code",
   "execution_count": 2,
   "id": "1ae27a53",
   "metadata": {
    "execution": {
     "iopub.execute_input": "2024-01-22T19:03:20.784858Z",
     "iopub.status.busy": "2024-01-22T19:03:20.783937Z",
     "iopub.status.idle": "2024-01-22T19:03:20.882610Z",
     "shell.execute_reply": "2024-01-22T19:03:20.881450Z"
    },
    "papermill": {
     "duration": 0.119348,
     "end_time": "2024-01-22T19:03:20.884943",
     "exception": false,
     "start_time": "2024-01-22T19:03:20.765595",
     "status": "completed"
    },
    "tags": []
   },
   "outputs": [
    {
     "data": {
      "text/html": [
       "<div>\n",
       "<style scoped>\n",
       "    .dataframe tbody tr th:only-of-type {\n",
       "        vertical-align: middle;\n",
       "    }\n",
       "\n",
       "    .dataframe tbody tr th {\n",
       "        vertical-align: top;\n",
       "    }\n",
       "\n",
       "    .dataframe thead th {\n",
       "        text-align: right;\n",
       "    }\n",
       "</style>\n",
       "<table border=\"1\" class=\"dataframe\">\n",
       "  <thead>\n",
       "    <tr style=\"text-align: right;\">\n",
       "      <th></th>\n",
       "      <th>Anime</th>\n",
       "      <th>Genre</th>\n",
       "      <th>Description</th>\n",
       "      <th>Studio</th>\n",
       "      <th>Year</th>\n",
       "      <th>Rating</th>\n",
       "    </tr>\n",
       "  </thead>\n",
       "  <tbody>\n",
       "    <tr>\n",
       "      <th>0</th>\n",
       "      <td>Re:Zero kara Hajimeru Isekai Seikatsu 2nd Season</td>\n",
       "      <td>['Drama', 'Fantasy', 'Suspense']</td>\n",
       "      <td>A reunion that was supposed to spell the arriv...</td>\n",
       "      <td>White Fox</td>\n",
       "      <td>Jul 8, 2020</td>\n",
       "      <td>8.37</td>\n",
       "    </tr>\n",
       "    <tr>\n",
       "      <th>1</th>\n",
       "      <td>Kanojo, Okarishimasu</td>\n",
       "      <td>['Comedy', 'Romance']</td>\n",
       "      <td>Kazuya Kinoshita is a 20-year-old college stud...</td>\n",
       "      <td>TMS Entertainment</td>\n",
       "      <td>Jul 11, 2020</td>\n",
       "      <td>NaN</td>\n",
       "    </tr>\n",
       "    <tr>\n",
       "      <th>2</th>\n",
       "      <td>The God of High School</td>\n",
       "      <td>['Action', 'Fantasy', 'Sci-Fi', 'Supernatural']</td>\n",
       "      <td>The \"God of High School\" tournament has begun,...</td>\n",
       "      <td>MAPPA</td>\n",
       "      <td>Jul 6, 2020</td>\n",
       "      <td>NaN</td>\n",
       "    </tr>\n",
       "    <tr>\n",
       "      <th>3</th>\n",
       "      <td>Maou Gakuin no Futekigousha: Shijou Saikyou no...</td>\n",
       "      <td>['Action', 'Fantasy']</td>\n",
       "      <td>In the distant past, a war between humans and ...</td>\n",
       "      <td>SILVER LINK.</td>\n",
       "      <td>Jul 4, 2020</td>\n",
       "      <td>NaN</td>\n",
       "    </tr>\n",
       "    <tr>\n",
       "      <th>4</th>\n",
       "      <td>Enen no Shouboutai: Ni no Shou</td>\n",
       "      <td>['Action', 'Supernatural']</td>\n",
       "      <td>After his confrontation in the Nether with his...</td>\n",
       "      <td>David Production</td>\n",
       "      <td>Jul 4, 2020</td>\n",
       "      <td>NaN</td>\n",
       "    </tr>\n",
       "    <tr>\n",
       "      <th>...</th>\n",
       "      <td>...</td>\n",
       "      <td>...</td>\n",
       "      <td>...</td>\n",
       "      <td>...</td>\n",
       "      <td>...</td>\n",
       "      <td>...</td>\n",
       "    </tr>\n",
       "    <tr>\n",
       "      <th>2976</th>\n",
       "      <td>Estab-Life: Great Escape</td>\n",
       "      <td>Sci-Fi</td>\n",
       "      <td>The distant future. After reaching its peak, E...</td>\n",
       "      <td>Polygon Pictures</td>\n",
       "      <td>Apr 6, 2022</td>\n",
       "      <td>NaN</td>\n",
       "    </tr>\n",
       "    <tr>\n",
       "      <th>2977</th>\n",
       "      <td>Meitantei Conan: Zero no Tea Time</td>\n",
       "      <td>Slice of Life</td>\n",
       "      <td>Anime adaptation of the spin-off manga Meitant...</td>\n",
       "      <td>TMS Entertainment</td>\n",
       "      <td>Apr 5, 2022</td>\n",
       "      <td>NaN</td>\n",
       "    </tr>\n",
       "    <tr>\n",
       "      <th>2978</th>\n",
       "      <td>Yatogame-chan Kansatsu Nikki Yonsatsume</td>\n",
       "      <td>Comedy</td>\n",
       "      <td>Fourth season of Yatogame-chan Kansatsu Nikki.</td>\n",
       "      <td>Creators in Pack</td>\n",
       "      <td>Apr 9, 2022</td>\n",
       "      <td>NaN</td>\n",
       "    </tr>\n",
       "    <tr>\n",
       "      <th>2979</th>\n",
       "      <td>Jantama Pong☆</td>\n",
       "      <td>Comedy</td>\n",
       "      <td>Based on characters from the free to play onli...</td>\n",
       "      <td>Scooter Films</td>\n",
       "      <td>Apr 9, 2022</td>\n",
       "      <td>NaN</td>\n",
       "    </tr>\n",
       "    <tr>\n",
       "      <th>2980</th>\n",
       "      <td>Kenda Master Ken (TV)</td>\n",
       "      <td>Comedy</td>\n",
       "      <td>Ken Tamaki defeats corrupt organizations and e...</td>\n",
       "      <td>Studio Kingyoiro</td>\n",
       "      <td>Apr 1, 2022</td>\n",
       "      <td>NaN</td>\n",
       "    </tr>\n",
       "  </tbody>\n",
       "</table>\n",
       "<p>2981 rows × 6 columns</p>\n",
       "</div>"
      ],
      "text/plain": [
       "                                                  Anime  \\\n",
       "0      Re:Zero kara Hajimeru Isekai Seikatsu 2nd Season   \n",
       "1                                  Kanojo, Okarishimasu   \n",
       "2                                The God of High School   \n",
       "3     Maou Gakuin no Futekigousha: Shijou Saikyou no...   \n",
       "4                        Enen no Shouboutai: Ni no Shou   \n",
       "...                                                 ...   \n",
       "2976                           Estab-Life: Great Escape   \n",
       "2977                  Meitantei Conan: Zero no Tea Time   \n",
       "2978            Yatogame-chan Kansatsu Nikki Yonsatsume   \n",
       "2979                                      Jantama Pong☆   \n",
       "2980                              Kenda Master Ken (TV)   \n",
       "\n",
       "                                                Genre  \\\n",
       "0                    ['Drama', 'Fantasy', 'Suspense']   \n",
       "1                               ['Comedy', 'Romance']   \n",
       "2     ['Action', 'Fantasy', 'Sci-Fi', 'Supernatural']   \n",
       "3                               ['Action', 'Fantasy']   \n",
       "4                          ['Action', 'Supernatural']   \n",
       "...                                               ...   \n",
       "2976                                           Sci-Fi   \n",
       "2977                                    Slice of Life   \n",
       "2978                                           Comedy   \n",
       "2979                                           Comedy   \n",
       "2980                                           Comedy   \n",
       "\n",
       "                                            Description             Studio  \\\n",
       "0     A reunion that was supposed to spell the arriv...          White Fox   \n",
       "1     Kazuya Kinoshita is a 20-year-old college stud...  TMS Entertainment   \n",
       "2     The \"God of High School\" tournament has begun,...              MAPPA   \n",
       "3     In the distant past, a war between humans and ...       SILVER LINK.   \n",
       "4     After his confrontation in the Nether with his...   David Production   \n",
       "...                                                 ...                ...   \n",
       "2976  The distant future. After reaching its peak, E...   Polygon Pictures   \n",
       "2977  Anime adaptation of the spin-off manga Meitant...  TMS Entertainment   \n",
       "2978     Fourth season of Yatogame-chan Kansatsu Nikki.   Creators in Pack   \n",
       "2979  Based on characters from the free to play onli...      Scooter Films   \n",
       "2980  Ken Tamaki defeats corrupt organizations and e...   Studio Kingyoiro   \n",
       "\n",
       "              Year  Rating  \n",
       "0      Jul 8, 2020    8.37  \n",
       "1     Jul 11, 2020     NaN  \n",
       "2      Jul 6, 2020     NaN  \n",
       "3      Jul 4, 2020     NaN  \n",
       "4      Jul 4, 2020     NaN  \n",
       "...            ...     ...  \n",
       "2976   Apr 6, 2022     NaN  \n",
       "2977   Apr 5, 2022     NaN  \n",
       "2978   Apr 9, 2022     NaN  \n",
       "2979   Apr 9, 2022     NaN  \n",
       "2980   Apr 1, 2022     NaN  \n",
       "\n",
       "[2981 rows x 6 columns]"
      ]
     },
     "execution_count": 2,
     "metadata": {},
     "output_type": "execute_result"
    }
   ],
   "source": [
    "model=pd.read_csv('/kaggle/input/anime-dataset/AnimeWorld.csv')\n",
    "model"
   ]
  },
  {
   "cell_type": "code",
   "execution_count": 3,
   "id": "4ef1a15a",
   "metadata": {
    "execution": {
     "iopub.execute_input": "2024-01-22T19:03:20.921175Z",
     "iopub.status.busy": "2024-01-22T19:03:20.920756Z",
     "iopub.status.idle": "2024-01-22T19:03:20.934931Z",
     "shell.execute_reply": "2024-01-22T19:03:20.933841Z"
    },
    "papermill": {
     "duration": 0.035169,
     "end_time": "2024-01-22T19:03:20.937739",
     "exception": false,
     "start_time": "2024-01-22T19:03:20.902570",
     "status": "completed"
    },
    "tags": []
   },
   "outputs": [
    {
     "data": {
      "text/html": [
       "<div>\n",
       "<style scoped>\n",
       "    .dataframe tbody tr th:only-of-type {\n",
       "        vertical-align: middle;\n",
       "    }\n",
       "\n",
       "    .dataframe tbody tr th {\n",
       "        vertical-align: top;\n",
       "    }\n",
       "\n",
       "    .dataframe thead th {\n",
       "        text-align: right;\n",
       "    }\n",
       "</style>\n",
       "<table border=\"1\" class=\"dataframe\">\n",
       "  <thead>\n",
       "    <tr style=\"text-align: right;\">\n",
       "      <th></th>\n",
       "      <th>Anime</th>\n",
       "      <th>Genre</th>\n",
       "      <th>Description</th>\n",
       "      <th>Studio</th>\n",
       "      <th>Year</th>\n",
       "      <th>Rating</th>\n",
       "    </tr>\n",
       "  </thead>\n",
       "  <tbody>\n",
       "    <tr>\n",
       "      <th>0</th>\n",
       "      <td>Re:Zero kara Hajimeru Isekai Seikatsu 2nd Season</td>\n",
       "      <td>['Drama', 'Fantasy', 'Suspense']</td>\n",
       "      <td>A reunion that was supposed to spell the arriv...</td>\n",
       "      <td>White Fox</td>\n",
       "      <td>Jul 8, 2020</td>\n",
       "      <td>8.37</td>\n",
       "    </tr>\n",
       "    <tr>\n",
       "      <th>1</th>\n",
       "      <td>Kanojo, Okarishimasu</td>\n",
       "      <td>['Comedy', 'Romance']</td>\n",
       "      <td>Kazuya Kinoshita is a 20-year-old college stud...</td>\n",
       "      <td>TMS Entertainment</td>\n",
       "      <td>Jul 11, 2020</td>\n",
       "      <td>NaN</td>\n",
       "    </tr>\n",
       "    <tr>\n",
       "      <th>2</th>\n",
       "      <td>The God of High School</td>\n",
       "      <td>['Action', 'Fantasy', 'Sci-Fi', 'Supernatural']</td>\n",
       "      <td>The \"God of High School\" tournament has begun,...</td>\n",
       "      <td>MAPPA</td>\n",
       "      <td>Jul 6, 2020</td>\n",
       "      <td>NaN</td>\n",
       "    </tr>\n",
       "  </tbody>\n",
       "</table>\n",
       "</div>"
      ],
      "text/plain": [
       "                                              Anime  \\\n",
       "0  Re:Zero kara Hajimeru Isekai Seikatsu 2nd Season   \n",
       "1                              Kanojo, Okarishimasu   \n",
       "2                            The God of High School   \n",
       "\n",
       "                                             Genre  \\\n",
       "0                 ['Drama', 'Fantasy', 'Suspense']   \n",
       "1                            ['Comedy', 'Romance']   \n",
       "2  ['Action', 'Fantasy', 'Sci-Fi', 'Supernatural']   \n",
       "\n",
       "                                         Description             Studio  \\\n",
       "0  A reunion that was supposed to spell the arriv...          White Fox   \n",
       "1  Kazuya Kinoshita is a 20-year-old college stud...  TMS Entertainment   \n",
       "2  The \"God of High School\" tournament has begun,...              MAPPA   \n",
       "\n",
       "           Year  Rating  \n",
       "0   Jul 8, 2020    8.37  \n",
       "1  Jul 11, 2020     NaN  \n",
       "2   Jul 6, 2020     NaN  "
      ]
     },
     "execution_count": 3,
     "metadata": {},
     "output_type": "execute_result"
    }
   ],
   "source": [
    "model.head(3)"
   ]
  },
  {
   "cell_type": "code",
   "execution_count": 4,
   "id": "7fb6f9ae",
   "metadata": {
    "execution": {
     "iopub.execute_input": "2024-01-22T19:03:20.976311Z",
     "iopub.status.busy": "2024-01-22T19:03:20.975509Z",
     "iopub.status.idle": "2024-01-22T19:03:20.983113Z",
     "shell.execute_reply": "2024-01-22T19:03:20.981999Z"
    },
    "papermill": {
     "duration": 0.029317,
     "end_time": "2024-01-22T19:03:20.985283",
     "exception": false,
     "start_time": "2024-01-22T19:03:20.955966",
     "status": "completed"
    },
    "tags": []
   },
   "outputs": [
    {
     "data": {
      "text/plain": [
       "Index(['Anime', 'Genre', 'Description', 'Studio', 'Year', 'Rating'], dtype='object')"
      ]
     },
     "execution_count": 4,
     "metadata": {},
     "output_type": "execute_result"
    }
   ],
   "source": [
    "model.columns"
   ]
  },
  {
   "cell_type": "code",
   "execution_count": 5,
   "id": "2cfdb740",
   "metadata": {
    "execution": {
     "iopub.execute_input": "2024-01-22T19:03:21.023121Z",
     "iopub.status.busy": "2024-01-22T19:03:21.022118Z",
     "iopub.status.idle": "2024-01-22T19:03:21.050676Z",
     "shell.execute_reply": "2024-01-22T19:03:21.049139Z"
    },
    "papermill": {
     "duration": 0.049832,
     "end_time": "2024-01-22T19:03:21.052915",
     "exception": false,
     "start_time": "2024-01-22T19:03:21.003083",
     "status": "completed"
    },
    "tags": []
   },
   "outputs": [
    {
     "name": "stdout",
     "output_type": "stream",
     "text": [
      "<class 'pandas.core.frame.DataFrame'>\n",
      "RangeIndex: 2981 entries, 0 to 2980\n",
      "Data columns (total 6 columns):\n",
      " #   Column       Non-Null Count  Dtype  \n",
      "---  ------       --------------  -----  \n",
      " 0   Anime        2981 non-null   object \n",
      " 1   Genre        2981 non-null   object \n",
      " 2   Description  2981 non-null   object \n",
      " 3   Studio       2895 non-null   object \n",
      " 4   Year         2981 non-null   object \n",
      " 5   Rating       276 non-null    float64\n",
      "dtypes: float64(1), object(5)\n",
      "memory usage: 139.9+ KB\n"
     ]
    }
   ],
   "source": [
    "model.info()"
   ]
  },
  {
   "cell_type": "code",
   "execution_count": 6,
   "id": "fb8eee47",
   "metadata": {
    "execution": {
     "iopub.execute_input": "2024-01-22T19:03:21.090665Z",
     "iopub.status.busy": "2024-01-22T19:03:21.090045Z",
     "iopub.status.idle": "2024-01-22T19:03:21.100101Z",
     "shell.execute_reply": "2024-01-22T19:03:21.099191Z"
    },
    "papermill": {
     "duration": 0.031245,
     "end_time": "2024-01-22T19:03:21.102184",
     "exception": false,
     "start_time": "2024-01-22T19:03:21.070939",
     "status": "completed"
    },
    "tags": []
   },
   "outputs": [
    {
     "data": {
      "text/plain": [
       "Anime             0\n",
       "Genre             0\n",
       "Description       0\n",
       "Studio           86\n",
       "Year              0\n",
       "Rating         2705\n",
       "dtype: int64"
      ]
     },
     "execution_count": 6,
     "metadata": {},
     "output_type": "execute_result"
    }
   ],
   "source": [
    "model.isnull().sum()"
   ]
  },
  {
   "cell_type": "code",
   "execution_count": 7,
   "id": "a506f8d4",
   "metadata": {
    "execution": {
     "iopub.execute_input": "2024-01-22T19:03:21.140188Z",
     "iopub.status.busy": "2024-01-22T19:03:21.139601Z",
     "iopub.status.idle": "2024-01-22T19:03:21.148633Z",
     "shell.execute_reply": "2024-01-22T19:03:21.147521Z"
    },
    "papermill": {
     "duration": 0.03096,
     "end_time": "2024-01-22T19:03:21.150854",
     "exception": false,
     "start_time": "2024-01-22T19:03:21.119894",
     "status": "completed"
    },
    "tags": []
   },
   "outputs": [
    {
     "data": {
      "text/plain": [
       "444             A-1 Pictures\n",
       "1656               J.C.Staff\n",
       "1933    Robot Communications\n",
       "1676                     OLM\n",
       "1050                   Xebec\n",
       "Name: Studio, dtype: object"
      ]
     },
     "execution_count": 7,
     "metadata": {},
     "output_type": "execute_result"
    }
   ],
   "source": [
    "model['Studio'].sample(5)"
   ]
  },
  {
   "cell_type": "code",
   "execution_count": 8,
   "id": "b1b65e6d",
   "metadata": {
    "execution": {
     "iopub.execute_input": "2024-01-22T19:03:21.189369Z",
     "iopub.status.busy": "2024-01-22T19:03:21.188600Z",
     "iopub.status.idle": "2024-01-22T19:03:21.196357Z",
     "shell.execute_reply": "2024-01-22T19:03:21.195337Z"
    },
    "papermill": {
     "duration": 0.029491,
     "end_time": "2024-01-22T19:03:21.198448",
     "exception": false,
     "start_time": "2024-01-22T19:03:21.168957",
     "status": "completed"
    },
    "tags": []
   },
   "outputs": [
    {
     "data": {
      "text/plain": [
       "343"
      ]
     },
     "execution_count": 8,
     "metadata": {},
     "output_type": "execute_result"
    }
   ],
   "source": [
    "model['Studio'].nunique()"
   ]
  },
  {
   "cell_type": "code",
   "execution_count": 9,
   "id": "0e06aaab",
   "metadata": {
    "execution": {
     "iopub.execute_input": "2024-01-22T19:03:21.236937Z",
     "iopub.status.busy": "2024-01-22T19:03:21.236507Z",
     "iopub.status.idle": "2024-01-22T19:03:21.243836Z",
     "shell.execute_reply": "2024-01-22T19:03:21.243031Z"
    },
    "papermill": {
     "duration": 0.028867,
     "end_time": "2024-01-22T19:03:21.245750",
     "exception": false,
     "start_time": "2024-01-22T19:03:21.216883",
     "status": "completed"
    },
    "tags": []
   },
   "outputs": [
    {
     "data": {
      "text/plain": [
       "481"
      ]
     },
     "execution_count": 9,
     "metadata": {},
     "output_type": "execute_result"
    }
   ],
   "source": [
    "model['Genre'].nunique()"
   ]
  },
  {
   "cell_type": "code",
   "execution_count": 10,
   "id": "c6545e2e",
   "metadata": {
    "execution": {
     "iopub.execute_input": "2024-01-22T19:03:21.343814Z",
     "iopub.status.busy": "2024-01-22T19:03:21.343387Z",
     "iopub.status.idle": "2024-01-22T19:03:21.353849Z",
     "shell.execute_reply": "2024-01-22T19:03:21.352820Z"
    },
    "papermill": {
     "duration": 0.091634,
     "end_time": "2024-01-22T19:03:21.356219",
     "exception": false,
     "start_time": "2024-01-22T19:03:21.264585",
     "status": "completed"
    },
    "tags": []
   },
   "outputs": [
    {
     "name": "stdout",
     "output_type": "stream",
     "text": [
      "<class 'pandas.core.series.Series'>\n",
      "RangeIndex: 2981 entries, 0 to 2980\n",
      "Series name: Anime\n",
      "Non-Null Count  Dtype \n",
      "--------------  ----- \n",
      "2981 non-null   object\n",
      "dtypes: object(1)\n",
      "memory usage: 23.4+ KB\n"
     ]
    }
   ],
   "source": [
    "model['Anime'].info()"
   ]
  },
  {
   "cell_type": "code",
   "execution_count": 11,
   "id": "0747e8f8",
   "metadata": {
    "execution": {
     "iopub.execute_input": "2024-01-22T19:03:21.395017Z",
     "iopub.status.busy": "2024-01-22T19:03:21.394616Z",
     "iopub.status.idle": "2024-01-22T19:03:21.402365Z",
     "shell.execute_reply": "2024-01-22T19:03:21.401356Z"
    },
    "papermill": {
     "duration": 0.030222,
     "end_time": "2024-01-22T19:03:21.404808",
     "exception": false,
     "start_time": "2024-01-22T19:03:21.374586",
     "status": "completed"
    },
    "tags": []
   },
   "outputs": [
    {
     "data": {
      "text/plain": [
       "1399"
      ]
     },
     "execution_count": 11,
     "metadata": {},
     "output_type": "execute_result"
    }
   ],
   "source": [
    "model['Year'].nunique()"
   ]
  },
  {
   "cell_type": "code",
   "execution_count": 12,
   "id": "da7a90ee",
   "metadata": {
    "execution": {
     "iopub.execute_input": "2024-01-22T19:03:21.444809Z",
     "iopub.status.busy": "2024-01-22T19:03:21.444069Z",
     "iopub.status.idle": "2024-01-22T19:03:21.448558Z",
     "shell.execute_reply": "2024-01-22T19:03:21.447471Z"
    },
    "papermill": {
     "duration": 0.02702,
     "end_time": "2024-01-22T19:03:21.450753",
     "exception": false,
     "start_time": "2024-01-22T19:03:21.423733",
     "status": "completed"
    },
    "tags": []
   },
   "outputs": [],
   "source": [
    "#no_studio=model[model['Studio'].isna()]\n",
    "#no_studio"
   ]
  },
  {
   "cell_type": "code",
   "execution_count": 13,
   "id": "d9c99d37",
   "metadata": {
    "execution": {
     "iopub.execute_input": "2024-01-22T19:03:21.490175Z",
     "iopub.status.busy": "2024-01-22T19:03:21.489467Z",
     "iopub.status.idle": "2024-01-22T19:03:21.494119Z",
     "shell.execute_reply": "2024-01-22T19:03:21.493156Z"
    },
    "papermill": {
     "duration": 0.027125,
     "end_time": "2024-01-22T19:03:21.496474",
     "exception": false,
     "start_time": "2024-01-22T19:03:21.469349",
     "status": "completed"
    },
    "tags": []
   },
   "outputs": [],
   "source": [
    "#no_studio['Studio'].fillna('Not_available',inplace=True)\n"
   ]
  },
  {
   "cell_type": "code",
   "execution_count": 14,
   "id": "dce514d3",
   "metadata": {
    "execution": {
     "iopub.execute_input": "2024-01-22T19:03:21.536585Z",
     "iopub.status.busy": "2024-01-22T19:03:21.536154Z",
     "iopub.status.idle": "2024-01-22T19:03:21.540816Z",
     "shell.execute_reply": "2024-01-22T19:03:21.539773Z"
    },
    "papermill": {
     "duration": 0.02739,
     "end_time": "2024-01-22T19:03:21.543100",
     "exception": false,
     "start_time": "2024-01-22T19:03:21.515710",
     "status": "completed"
    },
    "tags": []
   },
   "outputs": [],
   "source": [
    "\n",
    "#no_studio"
   ]
  },
  {
   "cell_type": "code",
   "execution_count": 15,
   "id": "bccf8728",
   "metadata": {
    "execution": {
     "iopub.execute_input": "2024-01-22T19:03:21.583964Z",
     "iopub.status.busy": "2024-01-22T19:03:21.583592Z",
     "iopub.status.idle": "2024-01-22T19:03:21.591817Z",
     "shell.execute_reply": "2024-01-22T19:03:21.590754Z"
    },
    "papermill": {
     "duration": 0.03087,
     "end_time": "2024-01-22T19:03:21.594175",
     "exception": false,
     "start_time": "2024-01-22T19:03:21.563305",
     "status": "completed"
    },
    "tags": []
   },
   "outputs": [
    {
     "data": {
      "text/plain": [
       "309              Connect\n",
       "1265            Madhouse\n",
       "2245      Production I.G\n",
       "1067                APPP\n",
       "1076                 JCF\n",
       "387          EMT Squared\n",
       "1695            Diomedéa\n",
       "856          Lapin Track\n",
       "380     David Production\n",
       "616                  OLM\n",
       "Name: Studio, dtype: object"
      ]
     },
     "execution_count": 15,
     "metadata": {},
     "output_type": "execute_result"
    }
   ],
   "source": [
    "model.Studio.sample(10)"
   ]
  },
  {
   "cell_type": "code",
   "execution_count": 16,
   "id": "b3ab0aef",
   "metadata": {
    "execution": {
     "iopub.execute_input": "2024-01-22T19:03:21.634177Z",
     "iopub.status.busy": "2024-01-22T19:03:21.633801Z",
     "iopub.status.idle": "2024-01-22T19:03:21.651953Z",
     "shell.execute_reply": "2024-01-22T19:03:21.650864Z"
    },
    "papermill": {
     "duration": 0.041556,
     "end_time": "2024-01-22T19:03:21.655022",
     "exception": false,
     "start_time": "2024-01-22T19:03:21.613466",
     "status": "completed"
    },
    "tags": []
   },
   "outputs": [
    {
     "data": {
      "text/html": [
       "<div>\n",
       "<style scoped>\n",
       "    .dataframe tbody tr th:only-of-type {\n",
       "        vertical-align: middle;\n",
       "    }\n",
       "\n",
       "    .dataframe tbody tr th {\n",
       "        vertical-align: top;\n",
       "    }\n",
       "\n",
       "    .dataframe thead th {\n",
       "        text-align: right;\n",
       "    }\n",
       "</style>\n",
       "<table border=\"1\" class=\"dataframe\">\n",
       "  <thead>\n",
       "    <tr style=\"text-align: right;\">\n",
       "      <th></th>\n",
       "      <th>Anime</th>\n",
       "      <th>Genre</th>\n",
       "      <th>Description</th>\n",
       "      <th>Studio</th>\n",
       "      <th>Year</th>\n",
       "      <th>Rating</th>\n",
       "    </tr>\n",
       "  </thead>\n",
       "  <tbody>\n",
       "    <tr>\n",
       "      <th>0</th>\n",
       "      <td>Re:Zero kara Hajimeru Isekai Seikatsu 2nd Season</td>\n",
       "      <td>['Drama', 'Fantasy', 'Suspense']</td>\n",
       "      <td>A reunion that was supposed to spell the arriv...</td>\n",
       "      <td>White Fox</td>\n",
       "      <td>Jul 8, 2020</td>\n",
       "      <td>8.37</td>\n",
       "    </tr>\n",
       "    <tr>\n",
       "      <th>1</th>\n",
       "      <td>Kanojo, Okarishimasu</td>\n",
       "      <td>['Comedy', 'Romance']</td>\n",
       "      <td>Kazuya Kinoshita is a 20-year-old college stud...</td>\n",
       "      <td>TMS Entertainment</td>\n",
       "      <td>Jul 11, 2020</td>\n",
       "      <td>NaN</td>\n",
       "    </tr>\n",
       "    <tr>\n",
       "      <th>2</th>\n",
       "      <td>The God of High School</td>\n",
       "      <td>['Action', 'Fantasy', 'Sci-Fi', 'Supernatural']</td>\n",
       "      <td>The \"God of High School\" tournament has begun,...</td>\n",
       "      <td>MAPPA</td>\n",
       "      <td>Jul 6, 2020</td>\n",
       "      <td>NaN</td>\n",
       "    </tr>\n",
       "    <tr>\n",
       "      <th>3</th>\n",
       "      <td>Maou Gakuin no Futekigousha: Shijou Saikyou no...</td>\n",
       "      <td>['Action', 'Fantasy']</td>\n",
       "      <td>In the distant past, a war between humans and ...</td>\n",
       "      <td>SILVER LINK.</td>\n",
       "      <td>Jul 4, 2020</td>\n",
       "      <td>NaN</td>\n",
       "    </tr>\n",
       "    <tr>\n",
       "      <th>4</th>\n",
       "      <td>Enen no Shouboutai: Ni no Shou</td>\n",
       "      <td>['Action', 'Supernatural']</td>\n",
       "      <td>After his confrontation in the Nether with his...</td>\n",
       "      <td>David Production</td>\n",
       "      <td>Jul 4, 2020</td>\n",
       "      <td>NaN</td>\n",
       "    </tr>\n",
       "    <tr>\n",
       "      <th>...</th>\n",
       "      <td>...</td>\n",
       "      <td>...</td>\n",
       "      <td>...</td>\n",
       "      <td>...</td>\n",
       "      <td>...</td>\n",
       "      <td>...</td>\n",
       "    </tr>\n",
       "    <tr>\n",
       "      <th>2976</th>\n",
       "      <td>Estab-Life: Great Escape</td>\n",
       "      <td>Sci-Fi</td>\n",
       "      <td>The distant future. After reaching its peak, E...</td>\n",
       "      <td>Polygon Pictures</td>\n",
       "      <td>Apr 6, 2022</td>\n",
       "      <td>NaN</td>\n",
       "    </tr>\n",
       "    <tr>\n",
       "      <th>2977</th>\n",
       "      <td>Meitantei Conan: Zero no Tea Time</td>\n",
       "      <td>Slice of Life</td>\n",
       "      <td>Anime adaptation of the spin-off manga Meitant...</td>\n",
       "      <td>TMS Entertainment</td>\n",
       "      <td>Apr 5, 2022</td>\n",
       "      <td>NaN</td>\n",
       "    </tr>\n",
       "    <tr>\n",
       "      <th>2978</th>\n",
       "      <td>Yatogame-chan Kansatsu Nikki Yonsatsume</td>\n",
       "      <td>Comedy</td>\n",
       "      <td>Fourth season of Yatogame-chan Kansatsu Nikki.</td>\n",
       "      <td>Creators in Pack</td>\n",
       "      <td>Apr 9, 2022</td>\n",
       "      <td>NaN</td>\n",
       "    </tr>\n",
       "    <tr>\n",
       "      <th>2979</th>\n",
       "      <td>Jantama Pong☆</td>\n",
       "      <td>Comedy</td>\n",
       "      <td>Based on characters from the free to play onli...</td>\n",
       "      <td>Scooter Films</td>\n",
       "      <td>Apr 9, 2022</td>\n",
       "      <td>NaN</td>\n",
       "    </tr>\n",
       "    <tr>\n",
       "      <th>2980</th>\n",
       "      <td>Kenda Master Ken (TV)</td>\n",
       "      <td>Comedy</td>\n",
       "      <td>Ken Tamaki defeats corrupt organizations and e...</td>\n",
       "      <td>Studio Kingyoiro</td>\n",
       "      <td>Apr 1, 2022</td>\n",
       "      <td>NaN</td>\n",
       "    </tr>\n",
       "  </tbody>\n",
       "</table>\n",
       "<p>2981 rows × 6 columns</p>\n",
       "</div>"
      ],
      "text/plain": [
       "                                                  Anime  \\\n",
       "0      Re:Zero kara Hajimeru Isekai Seikatsu 2nd Season   \n",
       "1                                  Kanojo, Okarishimasu   \n",
       "2                                The God of High School   \n",
       "3     Maou Gakuin no Futekigousha: Shijou Saikyou no...   \n",
       "4                        Enen no Shouboutai: Ni no Shou   \n",
       "...                                                 ...   \n",
       "2976                           Estab-Life: Great Escape   \n",
       "2977                  Meitantei Conan: Zero no Tea Time   \n",
       "2978            Yatogame-chan Kansatsu Nikki Yonsatsume   \n",
       "2979                                      Jantama Pong☆   \n",
       "2980                              Kenda Master Ken (TV)   \n",
       "\n",
       "                                                Genre  \\\n",
       "0                    ['Drama', 'Fantasy', 'Suspense']   \n",
       "1                               ['Comedy', 'Romance']   \n",
       "2     ['Action', 'Fantasy', 'Sci-Fi', 'Supernatural']   \n",
       "3                               ['Action', 'Fantasy']   \n",
       "4                          ['Action', 'Supernatural']   \n",
       "...                                               ...   \n",
       "2976                                           Sci-Fi   \n",
       "2977                                    Slice of Life   \n",
       "2978                                           Comedy   \n",
       "2979                                           Comedy   \n",
       "2980                                           Comedy   \n",
       "\n",
       "                                            Description             Studio  \\\n",
       "0     A reunion that was supposed to spell the arriv...          White Fox   \n",
       "1     Kazuya Kinoshita is a 20-year-old college stud...  TMS Entertainment   \n",
       "2     The \"God of High School\" tournament has begun,...              MAPPA   \n",
       "3     In the distant past, a war between humans and ...       SILVER LINK.   \n",
       "4     After his confrontation in the Nether with his...   David Production   \n",
       "...                                                 ...                ...   \n",
       "2976  The distant future. After reaching its peak, E...   Polygon Pictures   \n",
       "2977  Anime adaptation of the spin-off manga Meitant...  TMS Entertainment   \n",
       "2978     Fourth season of Yatogame-chan Kansatsu Nikki.   Creators in Pack   \n",
       "2979  Based on characters from the free to play onli...      Scooter Films   \n",
       "2980  Ken Tamaki defeats corrupt organizations and e...   Studio Kingyoiro   \n",
       "\n",
       "              Year  Rating  \n",
       "0      Jul 8, 2020    8.37  \n",
       "1     Jul 11, 2020     NaN  \n",
       "2      Jul 6, 2020     NaN  \n",
       "3      Jul 4, 2020     NaN  \n",
       "4      Jul 4, 2020     NaN  \n",
       "...            ...     ...  \n",
       "2976   Apr 6, 2022     NaN  \n",
       "2977   Apr 5, 2022     NaN  \n",
       "2978   Apr 9, 2022     NaN  \n",
       "2979   Apr 9, 2022     NaN  \n",
       "2980   Apr 1, 2022     NaN  \n",
       "\n",
       "[2981 rows x 6 columns]"
      ]
     },
     "execution_count": 16,
     "metadata": {},
     "output_type": "execute_result"
    }
   ],
   "source": [
    "model['Studio'].fillna('NA',inplace=True)\n",
    "model"
   ]
  },
  {
   "cell_type": "code",
   "execution_count": 17,
   "id": "876fdc12",
   "metadata": {
    "execution": {
     "iopub.execute_input": "2024-01-22T19:03:21.695342Z",
     "iopub.status.busy": "2024-01-22T19:03:21.694972Z",
     "iopub.status.idle": "2024-01-22T19:03:21.701718Z",
     "shell.execute_reply": "2024-01-22T19:03:21.700654Z"
    },
    "papermill": {
     "duration": 0.029886,
     "end_time": "2024-01-22T19:03:21.704114",
     "exception": false,
     "start_time": "2024-01-22T19:03:21.674228",
     "status": "completed"
    },
    "tags": []
   },
   "outputs": [
    {
     "data": {
      "text/plain": [
       "8.317246376811594"
      ]
     },
     "execution_count": 17,
     "metadata": {},
     "output_type": "execute_result"
    }
   ],
   "source": [
    "mean_rating=model['Rating'].mean()\n",
    "mean_rating"
   ]
  },
  {
   "cell_type": "code",
   "execution_count": 18,
   "id": "11bbc05a",
   "metadata": {
    "execution": {
     "iopub.execute_input": "2024-01-22T19:03:21.745489Z",
     "iopub.status.busy": "2024-01-22T19:03:21.744839Z",
     "iopub.status.idle": "2024-01-22T19:03:21.750398Z",
     "shell.execute_reply": "2024-01-22T19:03:21.749653Z"
    },
    "papermill": {
     "duration": 0.028521,
     "end_time": "2024-01-22T19:03:21.752479",
     "exception": false,
     "start_time": "2024-01-22T19:03:21.723958",
     "status": "completed"
    },
    "tags": []
   },
   "outputs": [],
   "source": [
    "#rounded_rating=mean_rating.round(mean_rating,3)\n",
    "model['Rating']=model['Rating'].fillna(round(mean_rating,3))"
   ]
  },
  {
   "cell_type": "code",
   "execution_count": 19,
   "id": "ab014ad3",
   "metadata": {
    "execution": {
     "iopub.execute_input": "2024-01-22T19:03:21.793963Z",
     "iopub.status.busy": "2024-01-22T19:03:21.793311Z",
     "iopub.status.idle": "2024-01-22T19:03:21.808587Z",
     "shell.execute_reply": "2024-01-22T19:03:21.807526Z"
    },
    "papermill": {
     "duration": 0.039086,
     "end_time": "2024-01-22T19:03:21.810967",
     "exception": false,
     "start_time": "2024-01-22T19:03:21.771881",
     "status": "completed"
    },
    "tags": []
   },
   "outputs": [
    {
     "data": {
      "text/html": [
       "<div>\n",
       "<style scoped>\n",
       "    .dataframe tbody tr th:only-of-type {\n",
       "        vertical-align: middle;\n",
       "    }\n",
       "\n",
       "    .dataframe tbody tr th {\n",
       "        vertical-align: top;\n",
       "    }\n",
       "\n",
       "    .dataframe thead th {\n",
       "        text-align: right;\n",
       "    }\n",
       "</style>\n",
       "<table border=\"1\" class=\"dataframe\">\n",
       "  <thead>\n",
       "    <tr style=\"text-align: right;\">\n",
       "      <th></th>\n",
       "      <th>Anime</th>\n",
       "      <th>Genre</th>\n",
       "      <th>Description</th>\n",
       "      <th>Studio</th>\n",
       "      <th>Year</th>\n",
       "      <th>Rating</th>\n",
       "    </tr>\n",
       "  </thead>\n",
       "  <tbody>\n",
       "    <tr>\n",
       "      <th>1138</th>\n",
       "      <td>Geneshaft</td>\n",
       "      <td>['Adventure', 'Sci-Fi']</td>\n",
       "      <td>In the 21st century mankind was on the brink o...</td>\n",
       "      <td>Satelight</td>\n",
       "      <td>Apr 5, 2001</td>\n",
       "      <td>8.317</td>\n",
       "    </tr>\n",
       "    <tr>\n",
       "      <th>1453</th>\n",
       "      <td>Kidou Shinsengumi Moeyo Ken TV</td>\n",
       "      <td>['Adventure', 'Comedy', 'Fantasy']</td>\n",
       "      <td>Set in an alternate version of the Meiji Era, ...</td>\n",
       "      <td>Picture Magic</td>\n",
       "      <td>Jul 2, 2005</td>\n",
       "      <td>8.317</td>\n",
       "    </tr>\n",
       "    <tr>\n",
       "      <th>2832</th>\n",
       "      <td>Tensai Ouji no Akaji Kokka Saisei Jutsu</td>\n",
       "      <td>['Comedy', 'Fantasy']</td>\n",
       "      <td>The king of Natra has fallen ill, leaving the ...</td>\n",
       "      <td>Yokohama Animation Lab</td>\n",
       "      <td>Jan 11, 2022</td>\n",
       "      <td>8.317</td>\n",
       "    </tr>\n",
       "    <tr>\n",
       "      <th>1360</th>\n",
       "      <td>Aishiteruze Baby★★</td>\n",
       "      <td>['Comedy', 'Drama', 'Romance']</td>\n",
       "      <td>Katakura Kippei is in every way a high school ...</td>\n",
       "      <td>TMS Entertainment</td>\n",
       "      <td>Apr 3, 2004</td>\n",
       "      <td>8.317</td>\n",
       "    </tr>\n",
       "    <tr>\n",
       "      <th>1977</th>\n",
       "      <td>Kachou Ouji</td>\n",
       "      <td>['Adventure', 'Comedy', 'Sci-Fi', 'Slice of Li...</td>\n",
       "      <td>Oji Tanaka has a wife, a child and a mundane j...</td>\n",
       "      <td>AIC</td>\n",
       "      <td>Jul 8, 1999</td>\n",
       "      <td>8.317</td>\n",
       "    </tr>\n",
       "    <tr>\n",
       "      <th>2193</th>\n",
       "      <td>Blade</td>\n",
       "      <td>['Action', 'Drama', 'Horror']</td>\n",
       "      <td>The story revolves around Blade, a \"Daywalker\"...</td>\n",
       "      <td>Madhouse</td>\n",
       "      <td>Jul 1, 2011</td>\n",
       "      <td>8.317</td>\n",
       "    </tr>\n",
       "    <tr>\n",
       "      <th>2663</th>\n",
       "      <td>Escha &amp; Logy no Atelier: Tasogare no Sora no R...</td>\n",
       "      <td>Fantasy</td>\n",
       "      <td>This world has gone through many Dusks, and is...</td>\n",
       "      <td>Studio Gokumi</td>\n",
       "      <td>Apr 10, 2014</td>\n",
       "      <td>8.317</td>\n",
       "    </tr>\n",
       "    <tr>\n",
       "      <th>2861</th>\n",
       "      <td>Yami Shibai 10</td>\n",
       "      <td>['Avant Garde', 'Horror', 'Supernatural']</td>\n",
       "      <td>Tenth season of Yami Shibai</td>\n",
       "      <td>ILCA</td>\n",
       "      <td>Jan 10, 2022</td>\n",
       "      <td>8.317</td>\n",
       "    </tr>\n",
       "    <tr>\n",
       "      <th>331</th>\n",
       "      <td>IDOLiSH7</td>\n",
       "      <td>Drama</td>\n",
       "      <td>On her first day of work at her father's small...</td>\n",
       "      <td>TROYCA</td>\n",
       "      <td>Jan 7, 2018</td>\n",
       "      <td>8.317</td>\n",
       "    </tr>\n",
       "    <tr>\n",
       "      <th>2896</th>\n",
       "      <td>Kumichou Musume to Sewagakari</td>\n",
       "      <td>Slice of Life</td>\n",
       "      <td>WHO'S YOUR NANNY?\\r\\n\\r\\nTooru Kirishima is th...</td>\n",
       "      <td>feel.</td>\n",
       "      <td>Jul 7, 2022</td>\n",
       "      <td>8.317</td>\n",
       "    </tr>\n",
       "  </tbody>\n",
       "</table>\n",
       "</div>"
      ],
      "text/plain": [
       "                                                  Anime  \\\n",
       "1138                                          Geneshaft   \n",
       "1453                     Kidou Shinsengumi Moeyo Ken TV   \n",
       "2832            Tensai Ouji no Akaji Kokka Saisei Jutsu   \n",
       "1360                                 Aishiteruze Baby★★   \n",
       "1977                                        Kachou Ouji   \n",
       "2193                                              Blade   \n",
       "2663  Escha & Logy no Atelier: Tasogare no Sora no R...   \n",
       "2861                                     Yami Shibai 10   \n",
       "331                                            IDOLiSH7   \n",
       "2896                      Kumichou Musume to Sewagakari   \n",
       "\n",
       "                                                  Genre  \\\n",
       "1138                            ['Adventure', 'Sci-Fi']   \n",
       "1453                 ['Adventure', 'Comedy', 'Fantasy']   \n",
       "2832                              ['Comedy', 'Fantasy']   \n",
       "1360                     ['Comedy', 'Drama', 'Romance']   \n",
       "1977  ['Adventure', 'Comedy', 'Sci-Fi', 'Slice of Li...   \n",
       "2193                      ['Action', 'Drama', 'Horror']   \n",
       "2663                                            Fantasy   \n",
       "2861          ['Avant Garde', 'Horror', 'Supernatural']   \n",
       "331                                               Drama   \n",
       "2896                                      Slice of Life   \n",
       "\n",
       "                                            Description  \\\n",
       "1138  In the 21st century mankind was on the brink o...   \n",
       "1453  Set in an alternate version of the Meiji Era, ...   \n",
       "2832  The king of Natra has fallen ill, leaving the ...   \n",
       "1360  Katakura Kippei is in every way a high school ...   \n",
       "1977  Oji Tanaka has a wife, a child and a mundane j...   \n",
       "2193  The story revolves around Blade, a \"Daywalker\"...   \n",
       "2663  This world has gone through many Dusks, and is...   \n",
       "2861                        Tenth season of Yami Shibai   \n",
       "331   On her first day of work at her father's small...   \n",
       "2896  WHO'S YOUR NANNY?\\r\\n\\r\\nTooru Kirishima is th...   \n",
       "\n",
       "                      Studio          Year  Rating  \n",
       "1138               Satelight   Apr 5, 2001   8.317  \n",
       "1453           Picture Magic   Jul 2, 2005   8.317  \n",
       "2832  Yokohama Animation Lab  Jan 11, 2022   8.317  \n",
       "1360       TMS Entertainment   Apr 3, 2004   8.317  \n",
       "1977                     AIC   Jul 8, 1999   8.317  \n",
       "2193                Madhouse   Jul 1, 2011   8.317  \n",
       "2663           Studio Gokumi  Apr 10, 2014   8.317  \n",
       "2861                    ILCA  Jan 10, 2022   8.317  \n",
       "331                   TROYCA   Jan 7, 2018   8.317  \n",
       "2896                   feel.   Jul 7, 2022   8.317  "
      ]
     },
     "execution_count": 19,
     "metadata": {},
     "output_type": "execute_result"
    }
   ],
   "source": [
    "model.sample(10)"
   ]
  },
  {
   "cell_type": "code",
   "execution_count": 20,
   "id": "a3156edf",
   "metadata": {
    "execution": {
     "iopub.execute_input": "2024-01-22T19:03:21.853108Z",
     "iopub.status.busy": "2024-01-22T19:03:21.852505Z",
     "iopub.status.idle": "2024-01-22T19:03:21.865559Z",
     "shell.execute_reply": "2024-01-22T19:03:21.864345Z"
    },
    "papermill": {
     "duration": 0.037986,
     "end_time": "2024-01-22T19:03:21.868951",
     "exception": false,
     "start_time": "2024-01-22T19:03:21.830965",
     "status": "completed"
    },
    "tags": []
   },
   "outputs": [
    {
     "name": "stdout",
     "output_type": "stream",
     "text": [
      "<class 'pandas.core.frame.DataFrame'>\n",
      "RangeIndex: 2981 entries, 0 to 2980\n",
      "Data columns (total 6 columns):\n",
      " #   Column       Non-Null Count  Dtype  \n",
      "---  ------       --------------  -----  \n",
      " 0   Anime        2981 non-null   object \n",
      " 1   Genre        2981 non-null   object \n",
      " 2   Description  2981 non-null   object \n",
      " 3   Studio       2981 non-null   object \n",
      " 4   Year         2981 non-null   object \n",
      " 5   Rating       2981 non-null   float64\n",
      "dtypes: float64(1), object(5)\n",
      "memory usage: 139.9+ KB\n"
     ]
    }
   ],
   "source": [
    "model.info()"
   ]
  },
  {
   "cell_type": "code",
   "execution_count": 21,
   "id": "15a0dda2",
   "metadata": {
    "execution": {
     "iopub.execute_input": "2024-01-22T19:03:21.910982Z",
     "iopub.status.busy": "2024-01-22T19:03:21.910602Z",
     "iopub.status.idle": "2024-01-22T19:03:21.917261Z",
     "shell.execute_reply": "2024-01-22T19:03:21.916483Z"
    },
    "papermill": {
     "duration": 0.030425,
     "end_time": "2024-01-22T19:03:21.919560",
     "exception": false,
     "start_time": "2024-01-22T19:03:21.889135",
     "status": "completed"
    },
    "tags": []
   },
   "outputs": [
    {
     "data": {
      "text/plain": [
       "344"
      ]
     },
     "execution_count": 21,
     "metadata": {},
     "output_type": "execute_result"
    }
   ],
   "source": [
    "model.Studio.nunique()"
   ]
  },
  {
   "cell_type": "code",
   "execution_count": 22,
   "id": "65e2c98c",
   "metadata": {
    "execution": {
     "iopub.execute_input": "2024-01-22T19:03:21.961578Z",
     "iopub.status.busy": "2024-01-22T19:03:21.961164Z",
     "iopub.status.idle": "2024-01-22T19:03:21.968652Z",
     "shell.execute_reply": "2024-01-22T19:03:21.967655Z"
    },
    "papermill": {
     "duration": 0.031462,
     "end_time": "2024-01-22T19:03:21.971056",
     "exception": false,
     "start_time": "2024-01-22T19:03:21.939594",
     "status": "completed"
    },
    "tags": []
   },
   "outputs": [
    {
     "data": {
      "text/plain": [
       "1399"
      ]
     },
     "execution_count": 22,
     "metadata": {},
     "output_type": "execute_result"
    }
   ],
   "source": [
    "model.Year.nunique()"
   ]
  },
  {
   "cell_type": "code",
   "execution_count": 23,
   "id": "a56869b7",
   "metadata": {
    "execution": {
     "iopub.execute_input": "2024-01-22T19:03:22.013177Z",
     "iopub.status.busy": "2024-01-22T19:03:22.012482Z",
     "iopub.status.idle": "2024-01-22T19:03:22.020221Z",
     "shell.execute_reply": "2024-01-22T19:03:22.019505Z"
    },
    "papermill": {
     "duration": 0.030984,
     "end_time": "2024-01-22T19:03:22.022236",
     "exception": false,
     "start_time": "2024-01-22T19:03:21.991252",
     "status": "completed"
    },
    "tags": []
   },
   "outputs": [
    {
     "data": {
      "text/plain": [
       "0        Jul 8, 2020\n",
       "1       Jul 11, 2020\n",
       "2        Jul 6, 2020\n",
       "3        Jul 4, 2020\n",
       "4        Jul 4, 2020\n",
       "            ...     \n",
       "2976     Apr 6, 2022\n",
       "2977     Apr 5, 2022\n",
       "2978     Apr 9, 2022\n",
       "2979     Apr 9, 2022\n",
       "2980     Apr 1, 2022\n",
       "Name: Year, Length: 2981, dtype: object"
      ]
     },
     "execution_count": 23,
     "metadata": {},
     "output_type": "execute_result"
    }
   ],
   "source": [
    "model['Year']"
   ]
  },
  {
   "cell_type": "code",
   "execution_count": 24,
   "id": "60991eb3",
   "metadata": {
    "execution": {
     "iopub.execute_input": "2024-01-22T19:03:22.064881Z",
     "iopub.status.busy": "2024-01-22T19:03:22.064431Z",
     "iopub.status.idle": "2024-01-22T19:03:22.086683Z",
     "shell.execute_reply": "2024-01-22T19:03:22.085576Z"
    },
    "papermill": {
     "duration": 0.046749,
     "end_time": "2024-01-22T19:03:22.089172",
     "exception": false,
     "start_time": "2024-01-22T19:03:22.042423",
     "status": "completed"
    },
    "tags": []
   },
   "outputs": [],
   "source": [
    "model['Year']=pd.to_datetime(model['Year'],errors='coerce')"
   ]
  },
  {
   "cell_type": "code",
   "execution_count": 25,
   "id": "ce312c87",
   "metadata": {
    "execution": {
     "iopub.execute_input": "2024-01-22T19:03:22.133389Z",
     "iopub.status.busy": "2024-01-22T19:03:22.132987Z",
     "iopub.status.idle": "2024-01-22T19:03:22.142038Z",
     "shell.execute_reply": "2024-01-22T19:03:22.140898Z"
    },
    "papermill": {
     "duration": 0.034473,
     "end_time": "2024-01-22T19:03:22.144488",
     "exception": false,
     "start_time": "2024-01-22T19:03:22.110015",
     "status": "completed"
    },
    "tags": []
   },
   "outputs": [
    {
     "data": {
      "text/plain": [
       "0      2020-07-08\n",
       "1      2020-07-11\n",
       "2      2020-07-06\n",
       "3      2020-07-04\n",
       "4      2020-07-04\n",
       "          ...    \n",
       "2976   2022-04-06\n",
       "2977   2022-04-05\n",
       "2978   2022-04-09\n",
       "2979   2022-04-09\n",
       "2980   2022-04-01\n",
       "Name: Year, Length: 2981, dtype: datetime64[ns]"
      ]
     },
     "execution_count": 25,
     "metadata": {},
     "output_type": "execute_result"
    }
   ],
   "source": [
    "model['Year']"
   ]
  },
  {
   "cell_type": "code",
   "execution_count": 26,
   "id": "5e17a175",
   "metadata": {
    "execution": {
     "iopub.execute_input": "2024-01-22T19:03:22.187598Z",
     "iopub.status.busy": "2024-01-22T19:03:22.187165Z",
     "iopub.status.idle": "2024-01-22T19:03:22.195248Z",
     "shell.execute_reply": "2024-01-22T19:03:22.194473Z"
    },
    "papermill": {
     "duration": 0.032509,
     "end_time": "2024-01-22T19:03:22.197485",
     "exception": false,
     "start_time": "2024-01-22T19:03:22.164976",
     "status": "completed"
    },
    "tags": []
   },
   "outputs": [],
   "source": [
    "model['release_year']=model['Year'].dt.year.interpolate()"
   ]
  },
  {
   "cell_type": "code",
   "execution_count": 27,
   "id": "d5f1d9dc",
   "metadata": {
    "execution": {
     "iopub.execute_input": "2024-01-22T19:03:22.240678Z",
     "iopub.status.busy": "2024-01-22T19:03:22.240237Z",
     "iopub.status.idle": "2024-01-22T19:03:22.247647Z",
     "shell.execute_reply": "2024-01-22T19:03:22.246675Z"
    },
    "papermill": {
     "duration": 0.032124,
     "end_time": "2024-01-22T19:03:22.250212",
     "exception": false,
     "start_time": "2024-01-22T19:03:22.218088",
     "status": "completed"
    },
    "tags": []
   },
   "outputs": [
    {
     "data": {
      "text/plain": [
       "0"
      ]
     },
     "execution_count": 27,
     "metadata": {},
     "output_type": "execute_result"
    }
   ],
   "source": [
    "model['release_year'].isnull().sum()"
   ]
  },
  {
   "cell_type": "code",
   "execution_count": 28,
   "id": "53c7cd85",
   "metadata": {
    "execution": {
     "iopub.execute_input": "2024-01-22T19:03:22.294512Z",
     "iopub.status.busy": "2024-01-22T19:03:22.293605Z",
     "iopub.status.idle": "2024-01-22T19:03:22.301307Z",
     "shell.execute_reply": "2024-01-22T19:03:22.300227Z"
    },
    "papermill": {
     "duration": 0.032654,
     "end_time": "2024-01-22T19:03:22.303710",
     "exception": false,
     "start_time": "2024-01-22T19:03:22.271056",
     "status": "completed"
    },
    "tags": []
   },
   "outputs": [],
   "source": [
    "model['released_month']=model['Year'].dt.month.interpolate()"
   ]
  },
  {
   "cell_type": "code",
   "execution_count": 29,
   "id": "ff5c47f2",
   "metadata": {
    "execution": {
     "iopub.execute_input": "2024-01-22T19:03:22.346974Z",
     "iopub.status.busy": "2024-01-22T19:03:22.346317Z",
     "iopub.status.idle": "2024-01-22T19:03:22.354273Z",
     "shell.execute_reply": "2024-01-22T19:03:22.353220Z"
    },
    "papermill": {
     "duration": 0.031983,
     "end_time": "2024-01-22T19:03:22.356404",
     "exception": false,
     "start_time": "2024-01-22T19:03:22.324421",
     "status": "completed"
    },
    "tags": []
   },
   "outputs": [
    {
     "data": {
      "text/plain": [
       "0"
      ]
     },
     "execution_count": 29,
     "metadata": {},
     "output_type": "execute_result"
    }
   ],
   "source": [
    "model['released_month'].isnull().sum()"
   ]
  },
  {
   "cell_type": "code",
   "execution_count": 30,
   "id": "fd642b2e",
   "metadata": {
    "execution": {
     "iopub.execute_input": "2024-01-22T19:03:22.399824Z",
     "iopub.status.busy": "2024-01-22T19:03:22.399393Z",
     "iopub.status.idle": "2024-01-22T19:03:22.418231Z",
     "shell.execute_reply": "2024-01-22T19:03:22.417500Z"
    },
    "papermill": {
     "duration": 0.042824,
     "end_time": "2024-01-22T19:03:22.420291",
     "exception": false,
     "start_time": "2024-01-22T19:03:22.377467",
     "status": "completed"
    },
    "tags": []
   },
   "outputs": [
    {
     "data": {
      "text/html": [
       "<div>\n",
       "<style scoped>\n",
       "    .dataframe tbody tr th:only-of-type {\n",
       "        vertical-align: middle;\n",
       "    }\n",
       "\n",
       "    .dataframe tbody tr th {\n",
       "        vertical-align: top;\n",
       "    }\n",
       "\n",
       "    .dataframe thead th {\n",
       "        text-align: right;\n",
       "    }\n",
       "</style>\n",
       "<table border=\"1\" class=\"dataframe\">\n",
       "  <thead>\n",
       "    <tr style=\"text-align: right;\">\n",
       "      <th></th>\n",
       "      <th>Anime</th>\n",
       "      <th>Genre</th>\n",
       "      <th>Description</th>\n",
       "      <th>Studio</th>\n",
       "      <th>Year</th>\n",
       "      <th>Rating</th>\n",
       "      <th>release_year</th>\n",
       "      <th>released_month</th>\n",
       "    </tr>\n",
       "  </thead>\n",
       "  <tbody>\n",
       "    <tr>\n",
       "      <th>131</th>\n",
       "      <td>Hulaing Babies Petit</td>\n",
       "      <td>['Comedy', 'Slice of Life']</td>\n",
       "      <td>(No synopsis yet.)</td>\n",
       "      <td>Fukushima Gaina</td>\n",
       "      <td>2020-01-08</td>\n",
       "      <td>8.317</td>\n",
       "      <td>2020.0</td>\n",
       "      <td>1.0</td>\n",
       "    </tr>\n",
       "    <tr>\n",
       "      <th>2403</th>\n",
       "      <td>Cardfight!! Vanguard: Link Joker-hen</td>\n",
       "      <td>['Action', 'Adventure']</td>\n",
       "      <td>A few months have passed since the VF Circuit,...</td>\n",
       "      <td>TMS Entertainment</td>\n",
       "      <td>2013-01-13</td>\n",
       "      <td>8.317</td>\n",
       "      <td>2013.0</td>\n",
       "      <td>1.0</td>\n",
       "    </tr>\n",
       "    <tr>\n",
       "      <th>1468</th>\n",
       "      <td>MÄR</td>\n",
       "      <td>['Action', 'Adventure', 'Comedy', 'Fantasy']</td>\n",
       "      <td>Dreaming of a magical world every night, the y...</td>\n",
       "      <td>SynergySP</td>\n",
       "      <td>2005-04-03</td>\n",
       "      <td>8.317</td>\n",
       "      <td>2005.0</td>\n",
       "      <td>4.0</td>\n",
       "    </tr>\n",
       "    <tr>\n",
       "      <th>301</th>\n",
       "      <td>Violet Evergarden</td>\n",
       "      <td>['Drama', 'Fantasy', 'Slice of Life']</td>\n",
       "      <td>The Great War finally came to an end after fou...</td>\n",
       "      <td>Kyoto Animation</td>\n",
       "      <td>2018-01-11</td>\n",
       "      <td>8.670</td>\n",
       "      <td>2018.0</td>\n",
       "      <td>1.0</td>\n",
       "    </tr>\n",
       "    <tr>\n",
       "      <th>439</th>\n",
       "      <td>TV Yarou Nanaana</td>\n",
       "      <td>['Adventure', 'Comedy']</td>\n",
       "      <td>An adult comedy series about a film crew of ba...</td>\n",
       "      <td>Studio Crocodile</td>\n",
       "      <td>2018-04-06</td>\n",
       "      <td>8.317</td>\n",
       "      <td>2018.0</td>\n",
       "      <td>4.0</td>\n",
       "    </tr>\n",
       "  </tbody>\n",
       "</table>\n",
       "</div>"
      ],
      "text/plain": [
       "                                     Anime  \\\n",
       "131                   Hulaing Babies Petit   \n",
       "2403  Cardfight!! Vanguard: Link Joker-hen   \n",
       "1468                                   MÄR   \n",
       "301                      Violet Evergarden   \n",
       "439                       TV Yarou Nanaana   \n",
       "\n",
       "                                             Genre  \\\n",
       "131                    ['Comedy', 'Slice of Life']   \n",
       "2403                       ['Action', 'Adventure']   \n",
       "1468  ['Action', 'Adventure', 'Comedy', 'Fantasy']   \n",
       "301          ['Drama', 'Fantasy', 'Slice of Life']   \n",
       "439                        ['Adventure', 'Comedy']   \n",
       "\n",
       "                                            Description             Studio  \\\n",
       "131                                  (No synopsis yet.)    Fukushima Gaina   \n",
       "2403  A few months have passed since the VF Circuit,...  TMS Entertainment   \n",
       "1468  Dreaming of a magical world every night, the y...          SynergySP   \n",
       "301   The Great War finally came to an end after fou...    Kyoto Animation   \n",
       "439   An adult comedy series about a film crew of ba...   Studio Crocodile   \n",
       "\n",
       "           Year  Rating  release_year  released_month  \n",
       "131  2020-01-08   8.317        2020.0             1.0  \n",
       "2403 2013-01-13   8.317        2013.0             1.0  \n",
       "1468 2005-04-03   8.317        2005.0             4.0  \n",
       "301  2018-01-11   8.670        2018.0             1.0  \n",
       "439  2018-04-06   8.317        2018.0             4.0  "
      ]
     },
     "execution_count": 30,
     "metadata": {},
     "output_type": "execute_result"
    }
   ],
   "source": [
    "model.sample(5)"
   ]
  },
  {
   "cell_type": "code",
   "execution_count": 31,
   "id": "a95c687e",
   "metadata": {
    "execution": {
     "iopub.execute_input": "2024-01-22T19:03:22.464453Z",
     "iopub.status.busy": "2024-01-22T19:03:22.464024Z",
     "iopub.status.idle": "2024-01-22T19:03:22.478141Z",
     "shell.execute_reply": "2024-01-22T19:03:22.477103Z"
    },
    "papermill": {
     "duration": 0.039465,
     "end_time": "2024-01-22T19:03:22.480894",
     "exception": false,
     "start_time": "2024-01-22T19:03:22.441429",
     "status": "completed"
    },
    "tags": []
   },
   "outputs": [
    {
     "name": "stdout",
     "output_type": "stream",
     "text": [
      "<class 'pandas.core.frame.DataFrame'>\n",
      "RangeIndex: 2981 entries, 0 to 2980\n",
      "Data columns (total 8 columns):\n",
      " #   Column          Non-Null Count  Dtype         \n",
      "---  ------          --------------  -----         \n",
      " 0   Anime           2981 non-null   object        \n",
      " 1   Genre           2981 non-null   object        \n",
      " 2   Description     2981 non-null   object        \n",
      " 3   Studio          2981 non-null   object        \n",
      " 4   Year            2976 non-null   datetime64[ns]\n",
      " 5   Rating          2981 non-null   float64       \n",
      " 6   release_year    2981 non-null   float64       \n",
      " 7   released_month  2981 non-null   float64       \n",
      "dtypes: datetime64[ns](1), float64(3), object(4)\n",
      "memory usage: 186.4+ KB\n"
     ]
    }
   ],
   "source": [
    "model.info()"
   ]
  },
  {
   "cell_type": "code",
   "execution_count": 32,
   "id": "c51da56a",
   "metadata": {
    "execution": {
     "iopub.execute_input": "2024-01-22T19:03:22.526058Z",
     "iopub.status.busy": "2024-01-22T19:03:22.525691Z",
     "iopub.status.idle": "2024-01-22T19:03:22.533235Z",
     "shell.execute_reply": "2024-01-22T19:03:22.532147Z"
    },
    "papermill": {
     "duration": 0.03295,
     "end_time": "2024-01-22T19:03:22.535538",
     "exception": false,
     "start_time": "2024-01-22T19:03:22.502588",
     "status": "completed"
    },
    "tags": []
   },
   "outputs": [
    {
     "data": {
      "text/plain": [
       "array([ 7. ,  6. , 10. ,  4. ,  1. ,  2. ,  5. , 11. ,  3. ,  8. ,  9. ,\n",
       "       12. ,  5.5,  6.5])"
      ]
     },
     "execution_count": 32,
     "metadata": {},
     "output_type": "execute_result"
    }
   ],
   "source": [
    "model['released_month'].unique()"
   ]
  },
  {
   "cell_type": "code",
   "execution_count": 33,
   "id": "adfb6d41",
   "metadata": {
    "execution": {
     "iopub.execute_input": "2024-01-22T19:03:22.581133Z",
     "iopub.status.busy": "2024-01-22T19:03:22.580760Z",
     "iopub.status.idle": "2024-01-22T19:03:22.589833Z",
     "shell.execute_reply": "2024-01-22T19:03:22.588810Z"
    },
    "papermill": {
     "duration": 0.035003,
     "end_time": "2024-01-22T19:03:22.592023",
     "exception": false,
     "start_time": "2024-01-22T19:03:22.557020",
     "status": "completed"
    },
    "tags": []
   },
   "outputs": [
    {
     "data": {
      "text/plain": [
       "released_month\n",
       "4.0     989\n",
       "1.0     632\n",
       "7.0     627\n",
       "10.0    362\n",
       "2.0      76\n",
       "3.0      57\n",
       "5.0      53\n",
       "6.0      51\n",
       "8.0      43\n",
       "11.0     33\n",
       "9.0      30\n",
       "12.0     25\n",
       "5.5       2\n",
       "6.5       1\n",
       "Name: count, dtype: int64"
      ]
     },
     "execution_count": 33,
     "metadata": {},
     "output_type": "execute_result"
    }
   ],
   "source": [
    "model['released_month'].value_counts()"
   ]
  },
  {
   "cell_type": "code",
   "execution_count": 34,
   "id": "82e16fc4",
   "metadata": {
    "execution": {
     "iopub.execute_input": "2024-01-22T19:03:22.637133Z",
     "iopub.status.busy": "2024-01-22T19:03:22.636752Z",
     "iopub.status.idle": "2024-01-22T19:03:22.642506Z",
     "shell.execute_reply": "2024-01-22T19:03:22.641482Z"
    },
    "papermill": {
     "duration": 0.030776,
     "end_time": "2024-01-22T19:03:22.644618",
     "exception": false,
     "start_time": "2024-01-22T19:03:22.613842",
     "status": "completed"
    },
    "tags": []
   },
   "outputs": [],
   "source": [
    "fractional_rows = model['released_month'] % 1 != 0"
   ]
  },
  {
   "cell_type": "code",
   "execution_count": 35,
   "id": "657f77a9",
   "metadata": {
    "execution": {
     "iopub.execute_input": "2024-01-22T19:03:22.689861Z",
     "iopub.status.busy": "2024-01-22T19:03:22.689460Z",
     "iopub.status.idle": "2024-01-22T19:03:22.700054Z",
     "shell.execute_reply": "2024-01-22T19:03:22.699047Z"
    },
    "papermill": {
     "duration": 0.036203,
     "end_time": "2024-01-22T19:03:22.702599",
     "exception": false,
     "start_time": "2024-01-22T19:03:22.666396",
     "status": "completed"
    },
    "tags": []
   },
   "outputs": [
    {
     "name": "stdout",
     "output_type": "stream",
     "text": [
      "                  Anime                                         Genre  \\\n",
      "960    Er Dan Toutai Ji                                 Slice of Life   \n",
      "1316    Taikong Xiha Zu  ['Adventure', 'Comedy', 'Fantasy', 'Sci-Fi']   \n",
      "1935  Ryouma 30 Seconds                                            []   \n",
      "\n",
      "             Description      Studio Year  Rating  release_year  \\\n",
      "960   (No synopsis yet.)          NA  NaT   8.317        2015.0   \n",
      "1316  (No synopsis yet.)          NA  NaT   8.317        2003.5   \n",
      "1935  (No synopsis yet.)  Historical  NaT   8.317        2009.0   \n",
      "\n",
      "      released_month  \n",
      "960              5.5  \n",
      "1316             5.5  \n",
      "1935             6.5  \n"
     ]
    }
   ],
   "source": [
    "print(model[fractional_rows])"
   ]
  },
  {
   "cell_type": "code",
   "execution_count": 36,
   "id": "6336c71b",
   "metadata": {
    "execution": {
     "iopub.execute_input": "2024-01-22T19:03:22.748073Z",
     "iopub.status.busy": "2024-01-22T19:03:22.747698Z",
     "iopub.status.idle": "2024-01-22T19:03:22.753810Z",
     "shell.execute_reply": "2024-01-22T19:03:22.752803Z"
    },
    "papermill": {
     "duration": 0.031661,
     "end_time": "2024-01-22T19:03:22.756053",
     "exception": false,
     "start_time": "2024-01-22T19:03:22.724392",
     "status": "completed"
    },
    "tags": []
   },
   "outputs": [],
   "source": [
    "model = model[~fractional_rows]"
   ]
  },
  {
   "cell_type": "code",
   "execution_count": 37,
   "id": "c2bc0197",
   "metadata": {
    "execution": {
     "iopub.execute_input": "2024-01-22T19:03:22.801582Z",
     "iopub.status.busy": "2024-01-22T19:03:22.801174Z",
     "iopub.status.idle": "2024-01-22T19:03:22.822536Z",
     "shell.execute_reply": "2024-01-22T19:03:22.821463Z"
    },
    "papermill": {
     "duration": 0.047086,
     "end_time": "2024-01-22T19:03:22.825026",
     "exception": false,
     "start_time": "2024-01-22T19:03:22.777940",
     "status": "completed"
    },
    "tags": []
   },
   "outputs": [
    {
     "data": {
      "text/html": [
       "<div>\n",
       "<style scoped>\n",
       "    .dataframe tbody tr th:only-of-type {\n",
       "        vertical-align: middle;\n",
       "    }\n",
       "\n",
       "    .dataframe tbody tr th {\n",
       "        vertical-align: top;\n",
       "    }\n",
       "\n",
       "    .dataframe thead th {\n",
       "        text-align: right;\n",
       "    }\n",
       "</style>\n",
       "<table border=\"1\" class=\"dataframe\">\n",
       "  <thead>\n",
       "    <tr style=\"text-align: right;\">\n",
       "      <th></th>\n",
       "      <th>Anime</th>\n",
       "      <th>Genre</th>\n",
       "      <th>Description</th>\n",
       "      <th>Studio</th>\n",
       "      <th>Year</th>\n",
       "      <th>Rating</th>\n",
       "      <th>release_year</th>\n",
       "      <th>released_month</th>\n",
       "    </tr>\n",
       "  </thead>\n",
       "  <tbody>\n",
       "    <tr>\n",
       "      <th>0</th>\n",
       "      <td>Re:Zero kara Hajimeru Isekai Seikatsu 2nd Season</td>\n",
       "      <td>['Drama', 'Fantasy', 'Suspense']</td>\n",
       "      <td>A reunion that was supposed to spell the arriv...</td>\n",
       "      <td>White Fox</td>\n",
       "      <td>2020-07-08</td>\n",
       "      <td>8.370</td>\n",
       "      <td>2020.0</td>\n",
       "      <td>7.0</td>\n",
       "    </tr>\n",
       "    <tr>\n",
       "      <th>1</th>\n",
       "      <td>Kanojo, Okarishimasu</td>\n",
       "      <td>['Comedy', 'Romance']</td>\n",
       "      <td>Kazuya Kinoshita is a 20-year-old college stud...</td>\n",
       "      <td>TMS Entertainment</td>\n",
       "      <td>2020-07-11</td>\n",
       "      <td>8.317</td>\n",
       "      <td>2020.0</td>\n",
       "      <td>7.0</td>\n",
       "    </tr>\n",
       "    <tr>\n",
       "      <th>2</th>\n",
       "      <td>The God of High School</td>\n",
       "      <td>['Action', 'Fantasy', 'Sci-Fi', 'Supernatural']</td>\n",
       "      <td>The \"God of High School\" tournament has begun,...</td>\n",
       "      <td>MAPPA</td>\n",
       "      <td>2020-07-06</td>\n",
       "      <td>8.317</td>\n",
       "      <td>2020.0</td>\n",
       "      <td>7.0</td>\n",
       "    </tr>\n",
       "    <tr>\n",
       "      <th>3</th>\n",
       "      <td>Maou Gakuin no Futekigousha: Shijou Saikyou no...</td>\n",
       "      <td>['Action', 'Fantasy']</td>\n",
       "      <td>In the distant past, a war between humans and ...</td>\n",
       "      <td>SILVER LINK.</td>\n",
       "      <td>2020-07-04</td>\n",
       "      <td>8.317</td>\n",
       "      <td>2020.0</td>\n",
       "      <td>7.0</td>\n",
       "    </tr>\n",
       "    <tr>\n",
       "      <th>4</th>\n",
       "      <td>Enen no Shouboutai: Ni no Shou</td>\n",
       "      <td>['Action', 'Supernatural']</td>\n",
       "      <td>After his confrontation in the Nether with his...</td>\n",
       "      <td>David Production</td>\n",
       "      <td>2020-07-04</td>\n",
       "      <td>8.317</td>\n",
       "      <td>2020.0</td>\n",
       "      <td>7.0</td>\n",
       "    </tr>\n",
       "    <tr>\n",
       "      <th>...</th>\n",
       "      <td>...</td>\n",
       "      <td>...</td>\n",
       "      <td>...</td>\n",
       "      <td>...</td>\n",
       "      <td>...</td>\n",
       "      <td>...</td>\n",
       "      <td>...</td>\n",
       "      <td>...</td>\n",
       "    </tr>\n",
       "    <tr>\n",
       "      <th>2976</th>\n",
       "      <td>Estab-Life: Great Escape</td>\n",
       "      <td>Sci-Fi</td>\n",
       "      <td>The distant future. After reaching its peak, E...</td>\n",
       "      <td>Polygon Pictures</td>\n",
       "      <td>2022-04-06</td>\n",
       "      <td>8.317</td>\n",
       "      <td>2022.0</td>\n",
       "      <td>4.0</td>\n",
       "    </tr>\n",
       "    <tr>\n",
       "      <th>2977</th>\n",
       "      <td>Meitantei Conan: Zero no Tea Time</td>\n",
       "      <td>Slice of Life</td>\n",
       "      <td>Anime adaptation of the spin-off manga Meitant...</td>\n",
       "      <td>TMS Entertainment</td>\n",
       "      <td>2022-04-05</td>\n",
       "      <td>8.317</td>\n",
       "      <td>2022.0</td>\n",
       "      <td>4.0</td>\n",
       "    </tr>\n",
       "    <tr>\n",
       "      <th>2978</th>\n",
       "      <td>Yatogame-chan Kansatsu Nikki Yonsatsume</td>\n",
       "      <td>Comedy</td>\n",
       "      <td>Fourth season of Yatogame-chan Kansatsu Nikki.</td>\n",
       "      <td>Creators in Pack</td>\n",
       "      <td>2022-04-09</td>\n",
       "      <td>8.317</td>\n",
       "      <td>2022.0</td>\n",
       "      <td>4.0</td>\n",
       "    </tr>\n",
       "    <tr>\n",
       "      <th>2979</th>\n",
       "      <td>Jantama Pong☆</td>\n",
       "      <td>Comedy</td>\n",
       "      <td>Based on characters from the free to play onli...</td>\n",
       "      <td>Scooter Films</td>\n",
       "      <td>2022-04-09</td>\n",
       "      <td>8.317</td>\n",
       "      <td>2022.0</td>\n",
       "      <td>4.0</td>\n",
       "    </tr>\n",
       "    <tr>\n",
       "      <th>2980</th>\n",
       "      <td>Kenda Master Ken (TV)</td>\n",
       "      <td>Comedy</td>\n",
       "      <td>Ken Tamaki defeats corrupt organizations and e...</td>\n",
       "      <td>Studio Kingyoiro</td>\n",
       "      <td>2022-04-01</td>\n",
       "      <td>8.317</td>\n",
       "      <td>2022.0</td>\n",
       "      <td>4.0</td>\n",
       "    </tr>\n",
       "  </tbody>\n",
       "</table>\n",
       "<p>2978 rows × 8 columns</p>\n",
       "</div>"
      ],
      "text/plain": [
       "                                                  Anime  \\\n",
       "0      Re:Zero kara Hajimeru Isekai Seikatsu 2nd Season   \n",
       "1                                  Kanojo, Okarishimasu   \n",
       "2                                The God of High School   \n",
       "3     Maou Gakuin no Futekigousha: Shijou Saikyou no...   \n",
       "4                        Enen no Shouboutai: Ni no Shou   \n",
       "...                                                 ...   \n",
       "2976                           Estab-Life: Great Escape   \n",
       "2977                  Meitantei Conan: Zero no Tea Time   \n",
       "2978            Yatogame-chan Kansatsu Nikki Yonsatsume   \n",
       "2979                                      Jantama Pong☆   \n",
       "2980                              Kenda Master Ken (TV)   \n",
       "\n",
       "                                                Genre  \\\n",
       "0                    ['Drama', 'Fantasy', 'Suspense']   \n",
       "1                               ['Comedy', 'Romance']   \n",
       "2     ['Action', 'Fantasy', 'Sci-Fi', 'Supernatural']   \n",
       "3                               ['Action', 'Fantasy']   \n",
       "4                          ['Action', 'Supernatural']   \n",
       "...                                               ...   \n",
       "2976                                           Sci-Fi   \n",
       "2977                                    Slice of Life   \n",
       "2978                                           Comedy   \n",
       "2979                                           Comedy   \n",
       "2980                                           Comedy   \n",
       "\n",
       "                                            Description             Studio  \\\n",
       "0     A reunion that was supposed to spell the arriv...          White Fox   \n",
       "1     Kazuya Kinoshita is a 20-year-old college stud...  TMS Entertainment   \n",
       "2     The \"God of High School\" tournament has begun,...              MAPPA   \n",
       "3     In the distant past, a war between humans and ...       SILVER LINK.   \n",
       "4     After his confrontation in the Nether with his...   David Production   \n",
       "...                                                 ...                ...   \n",
       "2976  The distant future. After reaching its peak, E...   Polygon Pictures   \n",
       "2977  Anime adaptation of the spin-off manga Meitant...  TMS Entertainment   \n",
       "2978     Fourth season of Yatogame-chan Kansatsu Nikki.   Creators in Pack   \n",
       "2979  Based on characters from the free to play onli...      Scooter Films   \n",
       "2980  Ken Tamaki defeats corrupt organizations and e...   Studio Kingyoiro   \n",
       "\n",
       "           Year  Rating  release_year  released_month  \n",
       "0    2020-07-08   8.370        2020.0             7.0  \n",
       "1    2020-07-11   8.317        2020.0             7.0  \n",
       "2    2020-07-06   8.317        2020.0             7.0  \n",
       "3    2020-07-04   8.317        2020.0             7.0  \n",
       "4    2020-07-04   8.317        2020.0             7.0  \n",
       "...         ...     ...           ...             ...  \n",
       "2976 2022-04-06   8.317        2022.0             4.0  \n",
       "2977 2022-04-05   8.317        2022.0             4.0  \n",
       "2978 2022-04-09   8.317        2022.0             4.0  \n",
       "2979 2022-04-09   8.317        2022.0             4.0  \n",
       "2980 2022-04-01   8.317        2022.0             4.0  \n",
       "\n",
       "[2978 rows x 8 columns]"
      ]
     },
     "execution_count": 37,
     "metadata": {},
     "output_type": "execute_result"
    }
   ],
   "source": [
    "model"
   ]
  },
  {
   "cell_type": "code",
   "execution_count": 38,
   "id": "e1e36856",
   "metadata": {
    "execution": {
     "iopub.execute_input": "2024-01-22T19:03:22.871720Z",
     "iopub.status.busy": "2024-01-22T19:03:22.871282Z",
     "iopub.status.idle": "2024-01-22T19:03:22.880399Z",
     "shell.execute_reply": "2024-01-22T19:03:22.879344Z"
    },
    "papermill": {
     "duration": 0.035451,
     "end_time": "2024-01-22T19:03:22.882860",
     "exception": false,
     "start_time": "2024-01-22T19:03:22.847409",
     "status": "completed"
    },
    "tags": []
   },
   "outputs": [
    {
     "data": {
      "text/plain": [
       "released_month\n",
       "4.0     989\n",
       "1.0     632\n",
       "7.0     627\n",
       "10.0    362\n",
       "2.0      76\n",
       "3.0      57\n",
       "5.0      53\n",
       "6.0      51\n",
       "8.0      43\n",
       "11.0     33\n",
       "9.0      30\n",
       "12.0     25\n",
       "Name: count, dtype: int64"
      ]
     },
     "execution_count": 38,
     "metadata": {},
     "output_type": "execute_result"
    }
   ],
   "source": [
    "model['released_month'].value_counts()"
   ]
  },
  {
   "cell_type": "code",
   "execution_count": 39,
   "id": "31a6da09",
   "metadata": {
    "execution": {
     "iopub.execute_input": "2024-01-22T19:03:22.929825Z",
     "iopub.status.busy": "2024-01-22T19:03:22.929369Z",
     "iopub.status.idle": "2024-01-22T19:03:22.935173Z",
     "shell.execute_reply": "2024-01-22T19:03:22.934268Z"
    },
    "papermill": {
     "duration": 0.032071,
     "end_time": "2024-01-22T19:03:22.937587",
     "exception": false,
     "start_time": "2024-01-22T19:03:22.905516",
     "status": "completed"
    },
    "tags": []
   },
   "outputs": [],
   "source": [
    "fractional_rows_year=model['release_year']%1!=0"
   ]
  },
  {
   "cell_type": "code",
   "execution_count": 40,
   "id": "6eea9d39",
   "metadata": {
    "execution": {
     "iopub.execute_input": "2024-01-22T19:03:22.984670Z",
     "iopub.status.busy": "2024-01-22T19:03:22.984274Z",
     "iopub.status.idle": "2024-01-22T19:03:22.990667Z",
     "shell.execute_reply": "2024-01-22T19:03:22.989884Z"
    },
    "papermill": {
     "duration": 0.032576,
     "end_time": "2024-01-22T19:03:22.992837",
     "exception": false,
     "start_time": "2024-01-22T19:03:22.960261",
     "status": "completed"
    },
    "tags": []
   },
   "outputs": [
    {
     "name": "stdout",
     "output_type": "stream",
     "text": [
      "Empty DataFrame\n",
      "Columns: [Anime, Genre, Description, Studio, Year, Rating, release_year, released_month]\n",
      "Index: []\n"
     ]
    }
   ],
   "source": [
    "print(model[fractional_rows_year])"
   ]
  },
  {
   "cell_type": "code",
   "execution_count": 41,
   "id": "7754a436",
   "metadata": {
    "execution": {
     "iopub.execute_input": "2024-01-22T19:03:23.039702Z",
     "iopub.status.busy": "2024-01-22T19:03:23.039031Z",
     "iopub.status.idle": "2024-01-22T19:03:23.061470Z",
     "shell.execute_reply": "2024-01-22T19:03:23.060347Z"
    },
    "papermill": {
     "duration": 0.048511,
     "end_time": "2024-01-22T19:03:23.063918",
     "exception": false,
     "start_time": "2024-01-22T19:03:23.015407",
     "status": "completed"
    },
    "tags": []
   },
   "outputs": [
    {
     "data": {
      "text/html": [
       "<div>\n",
       "<style scoped>\n",
       "    .dataframe tbody tr th:only-of-type {\n",
       "        vertical-align: middle;\n",
       "    }\n",
       "\n",
       "    .dataframe tbody tr th {\n",
       "        vertical-align: top;\n",
       "    }\n",
       "\n",
       "    .dataframe thead th {\n",
       "        text-align: right;\n",
       "    }\n",
       "</style>\n",
       "<table border=\"1\" class=\"dataframe\">\n",
       "  <thead>\n",
       "    <tr style=\"text-align: right;\">\n",
       "      <th></th>\n",
       "      <th>Anime</th>\n",
       "      <th>Genre</th>\n",
       "      <th>Description</th>\n",
       "      <th>Studio</th>\n",
       "      <th>Year</th>\n",
       "      <th>Rating</th>\n",
       "      <th>release_year</th>\n",
       "      <th>released_month</th>\n",
       "    </tr>\n",
       "  </thead>\n",
       "  <tbody>\n",
       "    <tr>\n",
       "      <th>0</th>\n",
       "      <td>Re:Zero kara Hajimeru Isekai Seikatsu 2nd Season</td>\n",
       "      <td>['Drama', 'Fantasy', 'Suspense']</td>\n",
       "      <td>A reunion that was supposed to spell the arriv...</td>\n",
       "      <td>White Fox</td>\n",
       "      <td>2020-07-08</td>\n",
       "      <td>8.370</td>\n",
       "      <td>2020.0</td>\n",
       "      <td>7.0</td>\n",
       "    </tr>\n",
       "    <tr>\n",
       "      <th>1</th>\n",
       "      <td>Kanojo, Okarishimasu</td>\n",
       "      <td>['Comedy', 'Romance']</td>\n",
       "      <td>Kazuya Kinoshita is a 20-year-old college stud...</td>\n",
       "      <td>TMS Entertainment</td>\n",
       "      <td>2020-07-11</td>\n",
       "      <td>8.317</td>\n",
       "      <td>2020.0</td>\n",
       "      <td>7.0</td>\n",
       "    </tr>\n",
       "    <tr>\n",
       "      <th>2</th>\n",
       "      <td>The God of High School</td>\n",
       "      <td>['Action', 'Fantasy', 'Sci-Fi', 'Supernatural']</td>\n",
       "      <td>The \"God of High School\" tournament has begun,...</td>\n",
       "      <td>MAPPA</td>\n",
       "      <td>2020-07-06</td>\n",
       "      <td>8.317</td>\n",
       "      <td>2020.0</td>\n",
       "      <td>7.0</td>\n",
       "    </tr>\n",
       "    <tr>\n",
       "      <th>3</th>\n",
       "      <td>Maou Gakuin no Futekigousha: Shijou Saikyou no...</td>\n",
       "      <td>['Action', 'Fantasy']</td>\n",
       "      <td>In the distant past, a war between humans and ...</td>\n",
       "      <td>SILVER LINK.</td>\n",
       "      <td>2020-07-04</td>\n",
       "      <td>8.317</td>\n",
       "      <td>2020.0</td>\n",
       "      <td>7.0</td>\n",
       "    </tr>\n",
       "    <tr>\n",
       "      <th>4</th>\n",
       "      <td>Enen no Shouboutai: Ni no Shou</td>\n",
       "      <td>['Action', 'Supernatural']</td>\n",
       "      <td>After his confrontation in the Nether with his...</td>\n",
       "      <td>David Production</td>\n",
       "      <td>2020-07-04</td>\n",
       "      <td>8.317</td>\n",
       "      <td>2020.0</td>\n",
       "      <td>7.0</td>\n",
       "    </tr>\n",
       "    <tr>\n",
       "      <th>...</th>\n",
       "      <td>...</td>\n",
       "      <td>...</td>\n",
       "      <td>...</td>\n",
       "      <td>...</td>\n",
       "      <td>...</td>\n",
       "      <td>...</td>\n",
       "      <td>...</td>\n",
       "      <td>...</td>\n",
       "    </tr>\n",
       "    <tr>\n",
       "      <th>2976</th>\n",
       "      <td>Estab-Life: Great Escape</td>\n",
       "      <td>Sci-Fi</td>\n",
       "      <td>The distant future. After reaching its peak, E...</td>\n",
       "      <td>Polygon Pictures</td>\n",
       "      <td>2022-04-06</td>\n",
       "      <td>8.317</td>\n",
       "      <td>2022.0</td>\n",
       "      <td>4.0</td>\n",
       "    </tr>\n",
       "    <tr>\n",
       "      <th>2977</th>\n",
       "      <td>Meitantei Conan: Zero no Tea Time</td>\n",
       "      <td>Slice of Life</td>\n",
       "      <td>Anime adaptation of the spin-off manga Meitant...</td>\n",
       "      <td>TMS Entertainment</td>\n",
       "      <td>2022-04-05</td>\n",
       "      <td>8.317</td>\n",
       "      <td>2022.0</td>\n",
       "      <td>4.0</td>\n",
       "    </tr>\n",
       "    <tr>\n",
       "      <th>2978</th>\n",
       "      <td>Yatogame-chan Kansatsu Nikki Yonsatsume</td>\n",
       "      <td>Comedy</td>\n",
       "      <td>Fourth season of Yatogame-chan Kansatsu Nikki.</td>\n",
       "      <td>Creators in Pack</td>\n",
       "      <td>2022-04-09</td>\n",
       "      <td>8.317</td>\n",
       "      <td>2022.0</td>\n",
       "      <td>4.0</td>\n",
       "    </tr>\n",
       "    <tr>\n",
       "      <th>2979</th>\n",
       "      <td>Jantama Pong☆</td>\n",
       "      <td>Comedy</td>\n",
       "      <td>Based on characters from the free to play onli...</td>\n",
       "      <td>Scooter Films</td>\n",
       "      <td>2022-04-09</td>\n",
       "      <td>8.317</td>\n",
       "      <td>2022.0</td>\n",
       "      <td>4.0</td>\n",
       "    </tr>\n",
       "    <tr>\n",
       "      <th>2980</th>\n",
       "      <td>Kenda Master Ken (TV)</td>\n",
       "      <td>Comedy</td>\n",
       "      <td>Ken Tamaki defeats corrupt organizations and e...</td>\n",
       "      <td>Studio Kingyoiro</td>\n",
       "      <td>2022-04-01</td>\n",
       "      <td>8.317</td>\n",
       "      <td>2022.0</td>\n",
       "      <td>4.0</td>\n",
       "    </tr>\n",
       "  </tbody>\n",
       "</table>\n",
       "<p>2978 rows × 8 columns</p>\n",
       "</div>"
      ],
      "text/plain": [
       "                                                  Anime  \\\n",
       "0      Re:Zero kara Hajimeru Isekai Seikatsu 2nd Season   \n",
       "1                                  Kanojo, Okarishimasu   \n",
       "2                                The God of High School   \n",
       "3     Maou Gakuin no Futekigousha: Shijou Saikyou no...   \n",
       "4                        Enen no Shouboutai: Ni no Shou   \n",
       "...                                                 ...   \n",
       "2976                           Estab-Life: Great Escape   \n",
       "2977                  Meitantei Conan: Zero no Tea Time   \n",
       "2978            Yatogame-chan Kansatsu Nikki Yonsatsume   \n",
       "2979                                      Jantama Pong☆   \n",
       "2980                              Kenda Master Ken (TV)   \n",
       "\n",
       "                                                Genre  \\\n",
       "0                    ['Drama', 'Fantasy', 'Suspense']   \n",
       "1                               ['Comedy', 'Romance']   \n",
       "2     ['Action', 'Fantasy', 'Sci-Fi', 'Supernatural']   \n",
       "3                               ['Action', 'Fantasy']   \n",
       "4                          ['Action', 'Supernatural']   \n",
       "...                                               ...   \n",
       "2976                                           Sci-Fi   \n",
       "2977                                    Slice of Life   \n",
       "2978                                           Comedy   \n",
       "2979                                           Comedy   \n",
       "2980                                           Comedy   \n",
       "\n",
       "                                            Description             Studio  \\\n",
       "0     A reunion that was supposed to spell the arriv...          White Fox   \n",
       "1     Kazuya Kinoshita is a 20-year-old college stud...  TMS Entertainment   \n",
       "2     The \"God of High School\" tournament has begun,...              MAPPA   \n",
       "3     In the distant past, a war between humans and ...       SILVER LINK.   \n",
       "4     After his confrontation in the Nether with his...   David Production   \n",
       "...                                                 ...                ...   \n",
       "2976  The distant future. After reaching its peak, E...   Polygon Pictures   \n",
       "2977  Anime adaptation of the spin-off manga Meitant...  TMS Entertainment   \n",
       "2978     Fourth season of Yatogame-chan Kansatsu Nikki.   Creators in Pack   \n",
       "2979  Based on characters from the free to play onli...      Scooter Films   \n",
       "2980  Ken Tamaki defeats corrupt organizations and e...   Studio Kingyoiro   \n",
       "\n",
       "           Year  Rating  release_year  released_month  \n",
       "0    2020-07-08   8.370        2020.0             7.0  \n",
       "1    2020-07-11   8.317        2020.0             7.0  \n",
       "2    2020-07-06   8.317        2020.0             7.0  \n",
       "3    2020-07-04   8.317        2020.0             7.0  \n",
       "4    2020-07-04   8.317        2020.0             7.0  \n",
       "...         ...     ...           ...             ...  \n",
       "2976 2022-04-06   8.317        2022.0             4.0  \n",
       "2977 2022-04-05   8.317        2022.0             4.0  \n",
       "2978 2022-04-09   8.317        2022.0             4.0  \n",
       "2979 2022-04-09   8.317        2022.0             4.0  \n",
       "2980 2022-04-01   8.317        2022.0             4.0  \n",
       "\n",
       "[2978 rows x 8 columns]"
      ]
     },
     "execution_count": 41,
     "metadata": {},
     "output_type": "execute_result"
    }
   ],
   "source": [
    "model"
   ]
  },
  {
   "cell_type": "code",
   "execution_count": 42,
   "id": "58027bb6",
   "metadata": {
    "execution": {
     "iopub.execute_input": "2024-01-22T19:03:23.111655Z",
     "iopub.status.busy": "2024-01-22T19:03:23.111226Z",
     "iopub.status.idle": "2024-01-22T19:03:23.122823Z",
     "shell.execute_reply": "2024-01-22T19:03:23.121589Z"
    },
    "papermill": {
     "duration": 0.038547,
     "end_time": "2024-01-22T19:03:23.125513",
     "exception": false,
     "start_time": "2024-01-22T19:03:23.086966",
     "status": "completed"
    },
    "tags": []
   },
   "outputs": [
    {
     "data": {
      "text/plain": [
       "release_year\n",
       "2018.0    186\n",
       "2016.0    176\n",
       "2017.0    172\n",
       "2014.0    165\n",
       "2015.0    159\n",
       "2021.0    157\n",
       "2013.0    146\n",
       "2019.0    143\n",
       "2022.0    142\n",
       "2006.0    138\n",
       "2011.0    129\n",
       "2020.0    128\n",
       "2012.0    125\n",
       "2007.0    123\n",
       "2008.0    112\n",
       "2009.0    106\n",
       "2005.0    100\n",
       "2004.0     99\n",
       "2003.0     84\n",
       "2010.0     83\n",
       "2001.0     76\n",
       "2002.0     73\n",
       "1999.0     73\n",
       "2000.0     45\n",
       "1998.0     26\n",
       "1997.0      4\n",
       "1995.0      2\n",
       "1996.0      2\n",
       "1990.0      1\n",
       "1994.0      1\n",
       "1992.0      1\n",
       "1969.0      1\n",
       "Name: count, dtype: int64"
      ]
     },
     "execution_count": 42,
     "metadata": {},
     "output_type": "execute_result"
    }
   ],
   "source": [
    "model.release_year.value_counts()"
   ]
  },
  {
   "cell_type": "code",
   "execution_count": 43,
   "id": "e2da84b6",
   "metadata": {
    "execution": {
     "iopub.execute_input": "2024-01-22T19:03:23.176693Z",
     "iopub.status.busy": "2024-01-22T19:03:23.175958Z",
     "iopub.status.idle": "2024-01-22T19:03:23.183876Z",
     "shell.execute_reply": "2024-01-22T19:03:23.182992Z"
    },
    "papermill": {
     "duration": 0.036433,
     "end_time": "2024-01-22T19:03:23.185991",
     "exception": false,
     "start_time": "2024-01-22T19:03:23.149558",
     "status": "completed"
    },
    "tags": []
   },
   "outputs": [
    {
     "data": {
      "text/plain": [
       "0       2020\n",
       "1       2020\n",
       "2       2020\n",
       "3       2020\n",
       "4       2020\n",
       "        ... \n",
       "2976    2022\n",
       "2977    2022\n",
       "2978    2022\n",
       "2979    2022\n",
       "2980    2022\n",
       "Name: release_year, Length: 2978, dtype: int64"
      ]
     },
     "execution_count": 43,
     "metadata": {},
     "output_type": "execute_result"
    }
   ],
   "source": [
    "model['release_year'].astype(int)"
   ]
  },
  {
   "cell_type": "code",
   "execution_count": 44,
   "id": "e4e90ed4",
   "metadata": {
    "execution": {
     "iopub.execute_input": "2024-01-22T19:03:23.235311Z",
     "iopub.status.busy": "2024-01-22T19:03:23.234604Z",
     "iopub.status.idle": "2024-01-22T19:03:23.242611Z",
     "shell.execute_reply": "2024-01-22T19:03:23.241678Z"
    },
    "papermill": {
     "duration": 0.034854,
     "end_time": "2024-01-22T19:03:23.244694",
     "exception": false,
     "start_time": "2024-01-22T19:03:23.209840",
     "status": "completed"
    },
    "tags": []
   },
   "outputs": [
    {
     "data": {
      "text/plain": [
       "0       7\n",
       "1       7\n",
       "2       7\n",
       "3       7\n",
       "4       7\n",
       "       ..\n",
       "2976    4\n",
       "2977    4\n",
       "2978    4\n",
       "2979    4\n",
       "2980    4\n",
       "Name: released_month, Length: 2978, dtype: int64"
      ]
     },
     "execution_count": 44,
     "metadata": {},
     "output_type": "execute_result"
    }
   ],
   "source": [
    "model['released_month'].astype(int)"
   ]
  },
  {
   "cell_type": "code",
   "execution_count": 45,
   "id": "17335ee9",
   "metadata": {
    "execution": {
     "iopub.execute_input": "2024-01-22T19:03:23.293025Z",
     "iopub.status.busy": "2024-01-22T19:03:23.292646Z",
     "iopub.status.idle": "2024-01-22T19:03:23.307165Z",
     "shell.execute_reply": "2024-01-22T19:03:23.305867Z"
    },
    "papermill": {
     "duration": 0.041406,
     "end_time": "2024-01-22T19:03:23.309377",
     "exception": false,
     "start_time": "2024-01-22T19:03:23.267971",
     "status": "completed"
    },
    "tags": []
   },
   "outputs": [
    {
     "name": "stdout",
     "output_type": "stream",
     "text": [
      "<class 'pandas.core.frame.DataFrame'>\n",
      "Index: 2978 entries, 0 to 2980\n",
      "Data columns (total 8 columns):\n",
      " #   Column          Non-Null Count  Dtype         \n",
      "---  ------          --------------  -----         \n",
      " 0   Anime           2978 non-null   object        \n",
      " 1   Genre           2978 non-null   object        \n",
      " 2   Description     2978 non-null   object        \n",
      " 3   Studio          2978 non-null   object        \n",
      " 4   Year            2976 non-null   datetime64[ns]\n",
      " 5   Rating          2978 non-null   float64       \n",
      " 6   release_year    2978 non-null   float64       \n",
      " 7   released_month  2978 non-null   float64       \n",
      "dtypes: datetime64[ns](1), float64(3), object(4)\n",
      "memory usage: 209.4+ KB\n"
     ]
    }
   ],
   "source": [
    "model.info()"
   ]
  },
  {
   "cell_type": "code",
   "execution_count": 46,
   "id": "b899e562",
   "metadata": {
    "execution": {
     "iopub.execute_input": "2024-01-22T19:03:23.358710Z",
     "iopub.status.busy": "2024-01-22T19:03:23.357597Z",
     "iopub.status.idle": "2024-01-22T19:03:24.977540Z",
     "shell.execute_reply": "2024-01-22T19:03:24.976521Z"
    },
    "papermill": {
     "duration": 1.64767,
     "end_time": "2024-01-22T19:03:24.980550",
     "exception": false,
     "start_time": "2024-01-22T19:03:23.332880",
     "status": "completed"
    },
    "tags": []
   },
   "outputs": [
    {
     "data": {
      "image/png": "[encoded data removed]",
      "text/plain": [
       "<Figure size 3000x1000 with 1 Axes>"
      ]
     },
     "metadata": {},
     "output_type": "display_data"
    }
   ],
   "source": [
    "plt.figure(figsize=(30,10))\n",
    "plt.ylabel('count')\n",
    "plt.title('growth of anime over the  years')\n",
    "sns.lineplot(x=model['release_year'],y=model['release_year'].index,linewidth=4,color='red');"
   ]
  },
  {
   "cell_type": "code",
   "execution_count": 47,
   "id": "12708ada",
   "metadata": {
    "execution": {
     "iopub.execute_input": "2024-01-22T19:03:25.035075Z",
     "iopub.status.busy": "2024-01-22T19:03:25.033874Z",
     "iopub.status.idle": "2024-01-22T19:03:25.397420Z",
     "shell.execute_reply": "2024-01-22T19:03:25.396242Z"
    },
    "papermill": {
     "duration": 0.39396,
     "end_time": "2024-01-22T19:03:25.400311",
     "exception": false,
     "start_time": "2024-01-22T19:03:25.006351",
     "status": "completed"
    },
    "tags": []
   },
   "outputs": [
    {
     "data": {
      "image/png": "[encoded data removed]",
      "text/plain": [
       "<Figure size 1400x700 with 1 Axes>"
      ]
     },
     "metadata": {},
     "output_type": "display_data"
    }
   ],
   "source": [
    "plt.figure(figsize=(14,7))\n",
    "sns.countplot(data=model,x=model['released_month'])\n",
    "plt.ylabel('Count')\n",
    "plt.title('Release over month')\n",
    "plt.xticks(ticks = range(12),labels=['Jan','Feb','Mar','Apr','May','Jun','Jul','Aug','Sep','Oct','Nov','Dec'])\n",
    "plt.show();"
   ]
  },
  {
   "cell_type": "code",
   "execution_count": 48,
   "id": "4790473d",
   "metadata": {
    "execution": {
     "iopub.execute_input": "2024-01-22T19:03:25.455704Z",
     "iopub.status.busy": "2024-01-22T19:03:25.455289Z",
     "iopub.status.idle": "2024-01-22T19:03:26.029704Z",
     "shell.execute_reply": "2024-01-22T19:03:26.028300Z"
    },
    "papermill": {
     "duration": 0.604756,
     "end_time": "2024-01-22T19:03:26.032321",
     "exception": false,
     "start_time": "2024-01-22T19:03:25.427565",
     "status": "completed"
    },
    "tags": []
   },
   "outputs": [
    {
     "data": {
      "image/png": "[encoded data removed]",
      "text/plain": [
       "<Figure size 2000x800 with 1 Axes>"
      ]
     },
     "metadata": {},
     "output_type": "display_data"
    }
   ],
   "source": [
    "plt.figure(figsize=(20,8))\n",
    "plt.title('Releases over every year')\n",
    "sns.countplot(data=model,x=model['release_year'])\n",
    "plt.show();"
   ]
  },
  {
   "cell_type": "code",
   "execution_count": 49,
   "id": "463d9928",
   "metadata": {
    "execution": {
     "iopub.execute_input": "2024-01-22T19:03:26.089420Z",
     "iopub.status.busy": "2024-01-22T19:03:26.089016Z",
     "iopub.status.idle": "2024-01-22T19:03:26.096701Z",
     "shell.execute_reply": "2024-01-22T19:03:26.095693Z"
    },
    "papermill": {
     "duration": 0.039466,
     "end_time": "2024-01-22T19:03:26.099228",
     "exception": false,
     "start_time": "2024-01-22T19:03:26.059762",
     "status": "completed"
    },
    "tags": []
   },
   "outputs": [
    {
     "data": {
      "text/plain": [
       "85"
      ]
     },
     "execution_count": 49,
     "metadata": {},
     "output_type": "execute_result"
    }
   ],
   "source": [
    "model.Rating.nunique()"
   ]
  },
  {
   "cell_type": "code",
   "execution_count": 50,
   "id": "fed32864",
   "metadata": {
    "execution": {
     "iopub.execute_input": "2024-01-22T19:03:26.156286Z",
     "iopub.status.busy": "2024-01-22T19:03:26.155894Z",
     "iopub.status.idle": "2024-01-22T19:03:26.552394Z",
     "shell.execute_reply": "2024-01-22T19:03:26.551214Z"
    },
    "papermill": {
     "duration": 0.428069,
     "end_time": "2024-01-22T19:03:26.554997",
     "exception": false,
     "start_time": "2024-01-22T19:03:26.126928",
     "status": "completed"
    },
    "tags": []
   },
   "outputs": [
    {
     "data": {
      "image/png": "[encoded data removed]",
      "text/plain": [
       "<Figure size 1500x700 with 1 Axes>"
      ]
     },
     "metadata": {},
     "output_type": "display_data"
    }
   ],
   "source": [
    "plt.figure(figsize=(15,7))\n",
    "plt.title('Ratings of anime')\n",
    "sns.histplot(model['Rating']);"
   ]
  },
  {
   "cell_type": "code",
   "execution_count": 51,
   "id": "b6f33f83",
   "metadata": {
    "execution": {
     "iopub.execute_input": "2024-01-22T19:03:26.611132Z",
     "iopub.status.busy": "2024-01-22T19:03:26.610729Z",
     "iopub.status.idle": "2024-01-22T19:03:26.620795Z",
     "shell.execute_reply": "2024-01-22T19:03:26.619716Z"
    },
    "papermill": {
     "duration": 0.040882,
     "end_time": "2024-01-22T19:03:26.623033",
     "exception": false,
     "start_time": "2024-01-22T19:03:26.582151",
     "status": "completed"
    },
    "tags": []
   },
   "outputs": [
    {
     "data": {
      "text/plain": [
       "Studio\n",
       "J.C.Staff              128\n",
       "Madhouse               117\n",
       "Studio Deen            115\n",
       "Sunrise                 90\n",
       "Toei Animation          89\n",
       "                      ... \n",
       "SBS TV Production        1\n",
       "Nakamura Production      1\n",
       "JCF                      1\n",
       "Ashi Production          1\n",
       "Studio Kingyoiro         1\n",
       "Name: count, Length: 344, dtype: int64"
      ]
     },
     "execution_count": 51,
     "metadata": {},
     "output_type": "execute_result"
    }
   ],
   "source": [
    "top_studio=model['Studio'].value_counts()\n",
    "top_studio"
   ]
  },
  {
   "cell_type": "code",
   "execution_count": 52,
   "id": "566f96bc",
   "metadata": {
    "execution": {
     "iopub.execute_input": "2024-01-22T19:03:26.678555Z",
     "iopub.status.busy": "2024-01-22T19:03:26.678136Z",
     "iopub.status.idle": "2024-01-22T19:03:26.686343Z",
     "shell.execute_reply": "2024-01-22T19:03:26.685539Z"
    },
    "papermill": {
     "duration": 0.038251,
     "end_time": "2024-01-22T19:03:26.688343",
     "exception": false,
     "start_time": "2024-01-22T19:03:26.650092",
     "status": "completed"
    },
    "tags": []
   },
   "outputs": [
    {
     "data": {
      "text/plain": [
       "Studio\n",
       "J.C.Staff         128\n",
       "Madhouse          117\n",
       "Studio Deen       115\n",
       "Sunrise            90\n",
       "Toei Animation     89\n",
       "Name: count, dtype: int64"
      ]
     },
     "execution_count": 52,
     "metadata": {},
     "output_type": "execute_result"
    }
   ],
   "source": [
    "top_five=top_studio.head(5)\n",
    "top_five"
   ]
  },
  {
   "cell_type": "code",
   "execution_count": 53,
   "id": "7cf109b6",
   "metadata": {
    "execution": {
     "iopub.execute_input": "2024-01-22T19:03:26.744743Z",
     "iopub.status.busy": "2024-01-22T19:03:26.743901Z",
     "iopub.status.idle": "2024-01-22T19:03:27.094621Z",
     "shell.execute_reply": "2024-01-22T19:03:27.093501Z"
    },
    "papermill": {
     "duration": 0.381612,
     "end_time": "2024-01-22T19:03:27.097090",
     "exception": false,
     "start_time": "2024-01-22T19:03:26.715478",
     "status": "completed"
    },
    "tags": []
   },
   "outputs": [
    {
     "data": {
      "text/plain": [
       "<Axes: title={'center': 'Top 5 Studios which releases maximum number of anime'}, xlabel='Studio', ylabel='count'>"
      ]
     },
     "execution_count": 53,
     "metadata": {},
     "output_type": "execute_result"
    },
    {
     "data": {
      "image/png": "[encoded data removed]",
      "text/plain": [
       "<Figure size 1500x700 with 1 Axes>"
      ]
     },
     "metadata": {},
     "output_type": "display_data"
    }
   ],
   "source": [
    "plt.figure(figsize=(15,7))\n",
    "plt.title('Top 5 Studios which releases maximum number of anime')\n",
    "sns.barplot(x=top_five.index,y=top_five)"
   ]
  },
  {
   "cell_type": "code",
   "execution_count": 54,
   "id": "e27f6add",
   "metadata": {
    "execution": {
     "iopub.execute_input": "2024-01-22T19:03:27.154604Z",
     "iopub.status.busy": "2024-01-22T19:03:27.154125Z",
     "iopub.status.idle": "2024-01-22T19:03:27.436239Z",
     "shell.execute_reply": "2024-01-22T19:03:27.434688Z"
    },
    "papermill": {
     "duration": 0.31546,
     "end_time": "2024-01-22T19:03:27.440509",
     "exception": false,
     "start_time": "2024-01-22T19:03:27.125049",
     "status": "completed"
    },
    "tags": []
   },
   "outputs": [
    {
     "data": {
      "image/png": "[encoded data removed]",
      "text/plain": [
       "<Figure size 640x480 with 1 Axes>"
      ]
     },
     "metadata": {},
     "output_type": "display_data"
    }
   ],
   "source": [
    "plt.pie(top_five,labels=top_five.index,autopct='%1.1f%%',startangle=45);"
   ]
  },
  {
   "cell_type": "code",
   "execution_count": null,
   "id": "6a080ea6",
   "metadata": {
    "papermill": {
     "duration": 0.028253,
     "end_time": "2024-01-22T19:03:27.520002",
     "exception": false,
     "start_time": "2024-01-22T19:03:27.491749",
     "status": "completed"
    },
    "tags": []
   },
   "outputs": [],
   "source": []
  }
 ],
 "metadata": {
  "kaggle": {
   "accelerator": "none",
   "dataSources": [
    {
     "datasetId": 2330260,
     "sourceId": 3974616,
     "sourceType": "datasetVersion"
    }
   ],
   "dockerImageVersionId": 30635,
   "isGpuEnabled": false,
   "isInternetEnabled": false,
   "language": "python",
   "sourceType": "notebook"
  },
  "kernelspec": {
   "display_name": "Python 3",
   "language": "python",
   "name": "python3"
  },
  "language_info": {
   "codemirror_mode": {
    "name": "ipython",
    "version": 3
   },
   "file_extension": ".py",
   "mimetype": "text/x-python",
   "name": "python",
   "nbconvert_exporter": "python",
   "pygments_lexer": "ipython3",
   "version": "3.10.12"
  },
  "papermill": {
   "default_parameters": {},
   "duration": 13.38268,
   "end_time": "2024-01-22T19:03:28.170976",
   "environment_variables": {},
   "exception": null,
   "input_path": "__notebook__.ipynb",
   "output_path": "__notebook__.ipynb",
   "parameters": {},
   "start_time": "2024-01-22T19:03:14.788296",
   "version": "2.4.0"
  }
 },
 "nbformat": 4,
 "nbformat_minor": 5
}
